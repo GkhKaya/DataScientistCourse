{
 "cells": [
  {
   "cell_type": "code",
   "execution_count": 1,
   "id": "initial_id",
   "metadata": {
    "collapsed": true,
    "ExecuteTime": {
     "end_time": "2023-08-13T15:29:28.581560Z",
     "start_time": "2023-08-13T15:29:28.188323Z"
    }
   },
   "outputs": [
    {
     "data": {
      "text/plain": "   Var1  var2  var3\n0     5     8     3\n1    23    17    17\n2    10     6    26\n3     3    27     4\n4    16     4     9\n5    29    28    26\n6     1     5    26\n7    18    22    13\n8    22    11     6\n9    25    11     2",
      "text/html": "<div>\n<style scoped>\n    .dataframe tbody tr th:only-of-type {\n        vertical-align: middle;\n    }\n\n    .dataframe tbody tr th {\n        vertical-align: top;\n    }\n\n    .dataframe thead th {\n        text-align: right;\n    }\n</style>\n<table border=\"1\" class=\"dataframe\">\n  <thead>\n    <tr style=\"text-align: right;\">\n      <th></th>\n      <th>Var1</th>\n      <th>var2</th>\n      <th>var3</th>\n    </tr>\n  </thead>\n  <tbody>\n    <tr>\n      <th>0</th>\n      <td>5</td>\n      <td>8</td>\n      <td>3</td>\n    </tr>\n    <tr>\n      <th>1</th>\n      <td>23</td>\n      <td>17</td>\n      <td>17</td>\n    </tr>\n    <tr>\n      <th>2</th>\n      <td>10</td>\n      <td>6</td>\n      <td>26</td>\n    </tr>\n    <tr>\n      <th>3</th>\n      <td>3</td>\n      <td>27</td>\n      <td>4</td>\n    </tr>\n    <tr>\n      <th>4</th>\n      <td>16</td>\n      <td>4</td>\n      <td>9</td>\n    </tr>\n    <tr>\n      <th>5</th>\n      <td>29</td>\n      <td>28</td>\n      <td>26</td>\n    </tr>\n    <tr>\n      <th>6</th>\n      <td>1</td>\n      <td>5</td>\n      <td>26</td>\n    </tr>\n    <tr>\n      <th>7</th>\n      <td>18</td>\n      <td>22</td>\n      <td>13</td>\n    </tr>\n    <tr>\n      <th>8</th>\n      <td>22</td>\n      <td>11</td>\n      <td>6</td>\n    </tr>\n    <tr>\n      <th>9</th>\n      <td>25</td>\n      <td>11</td>\n      <td>2</td>\n    </tr>\n  </tbody>\n</table>\n</div>"
     },
     "execution_count": 1,
     "metadata": {},
     "output_type": "execute_result"
    }
   ],
   "source": [
    "import numpy as np\n",
    "import pandas as pd\n",
    "m = np. random. randint (1,30, size = (10, 3))\n",
    "df = pd. DataFrame (m, columns = [\"Var1\", \"var2\", \"var3\"])\n",
    "df"
   ]
  },
  {
   "cell_type": "code",
   "execution_count": 4,
   "outputs": [
    {
     "data": {
      "text/plain": "0     5\n1    23\n2    10\n3     3\n4    16\n5    29\n6     1\n7    18\n8    22\n9    25\nName: Var1, dtype: int64"
     },
     "execution_count": 4,
     "metadata": {},
     "output_type": "execute_result"
    }
   ],
   "source": [
    "df[\"Var1\"]"
   ],
   "metadata": {
    "collapsed": false,
    "ExecuteTime": {
     "end_time": "2023-08-13T15:29:46.982622Z",
     "start_time": "2023-08-13T15:29:46.970322Z"
    }
   },
   "id": "21b29aa413829f51"
  },
  {
   "cell_type": "code",
   "execution_count": 8,
   "outputs": [
    {
     "data": {
      "text/plain": "   Var1  var2  var3\n1    23    17    17\n4    16     4     9\n5    29    28    26\n7    18    22    13\n8    22    11     6\n9    25    11     2",
      "text/html": "<div>\n<style scoped>\n    .dataframe tbody tr th:only-of-type {\n        vertical-align: middle;\n    }\n\n    .dataframe tbody tr th {\n        vertical-align: top;\n    }\n\n    .dataframe thead th {\n        text-align: right;\n    }\n</style>\n<table border=\"1\" class=\"dataframe\">\n  <thead>\n    <tr style=\"text-align: right;\">\n      <th></th>\n      <th>Var1</th>\n      <th>var2</th>\n      <th>var3</th>\n    </tr>\n  </thead>\n  <tbody>\n    <tr>\n      <th>1</th>\n      <td>23</td>\n      <td>17</td>\n      <td>17</td>\n    </tr>\n    <tr>\n      <th>4</th>\n      <td>16</td>\n      <td>4</td>\n      <td>9</td>\n    </tr>\n    <tr>\n      <th>5</th>\n      <td>29</td>\n      <td>28</td>\n      <td>26</td>\n    </tr>\n    <tr>\n      <th>7</th>\n      <td>18</td>\n      <td>22</td>\n      <td>13</td>\n    </tr>\n    <tr>\n      <th>8</th>\n      <td>22</td>\n      <td>11</td>\n      <td>6</td>\n    </tr>\n    <tr>\n      <th>9</th>\n      <td>25</td>\n      <td>11</td>\n      <td>2</td>\n    </tr>\n  </tbody>\n</table>\n</div>"
     },
     "execution_count": 8,
     "metadata": {},
     "output_type": "execute_result"
    }
   ],
   "source": [
    "df[df.Var1 > 15]"
   ],
   "metadata": {
    "collapsed": false,
    "ExecuteTime": {
     "end_time": "2023-08-13T15:31:22.753543Z",
     "start_time": "2023-08-13T15:31:22.742979Z"
    }
   },
   "id": "1cce1f344e385611"
  },
  {
   "cell_type": "code",
   "execution_count": 9,
   "outputs": [
    {
     "data": {
      "text/plain": "   Var1  var2  var3\n9    25    11     2",
      "text/html": "<div>\n<style scoped>\n    .dataframe tbody tr th:only-of-type {\n        vertical-align: middle;\n    }\n\n    .dataframe tbody tr th {\n        vertical-align: top;\n    }\n\n    .dataframe thead th {\n        text-align: right;\n    }\n</style>\n<table border=\"1\" class=\"dataframe\">\n  <thead>\n    <tr style=\"text-align: right;\">\n      <th></th>\n      <th>Var1</th>\n      <th>var2</th>\n      <th>var3</th>\n    </tr>\n  </thead>\n  <tbody>\n    <tr>\n      <th>9</th>\n      <td>25</td>\n      <td>11</td>\n      <td>2</td>\n    </tr>\n  </tbody>\n</table>\n</div>"
     },
     "execution_count": 9,
     "metadata": {},
     "output_type": "execute_result"
    }
   ],
   "source": [
    "df[(df.Var1 > 15) & (df.var3 < 5)]\n"
   ],
   "metadata": {
    "collapsed": false,
    "ExecuteTime": {
     "end_time": "2023-08-13T15:32:05.578113Z",
     "start_time": "2023-08-13T15:32:05.558325Z"
    }
   },
   "id": "efcc0b1283433c78"
  },
  {
   "cell_type": "code",
   "execution_count": 11,
   "outputs": [
    {
     "ename": "ValueError",
     "evalue": "operands could not be broadcast together with shapes (10,) (2,) ",
     "output_type": "error",
     "traceback": [
      "\u001B[0;31m---------------------------------------------------------------------------\u001B[0m",
      "\u001B[0;31mValueError\u001B[0m                                Traceback (most recent call last)",
      "Cell \u001B[0;32mIn[11], line 1\u001B[0m\n\u001B[0;32m----> 1\u001B[0m df\u001B[38;5;241m.\u001B[39mloc[(df\u001B[38;5;241m.\u001B[39mVar1 \u001B[38;5;241m>\u001B[39m \u001B[38;5;241m15\u001B[39m) \u001B[38;5;241m&\u001B[39m [\u001B[38;5;124m\"\u001B[39m\u001B[38;5;124mVar1\u001B[39m\u001B[38;5;124m\"\u001B[39m,\u001B[38;5;124m\"\u001B[39m\u001B[38;5;124mVar2\u001B[39m\u001B[38;5;124m\"\u001B[39m]]\n",
      "File \u001B[0;32m~/anaconda3/envs/DataScientistCourse/lib/python3.11/site-packages/pandas/core/ops/common.py:81\u001B[0m, in \u001B[0;36m_unpack_zerodim_and_defer.<locals>.new_method\u001B[0;34m(self, other)\u001B[0m\n\u001B[1;32m     77\u001B[0m             \u001B[38;5;28;01mreturn\u001B[39;00m \u001B[38;5;28mNotImplemented\u001B[39m\n\u001B[1;32m     79\u001B[0m other \u001B[38;5;241m=\u001B[39m item_from_zerodim(other)\n\u001B[0;32m---> 81\u001B[0m \u001B[38;5;28;01mreturn\u001B[39;00m method(\u001B[38;5;28mself\u001B[39m, other)\n",
      "File \u001B[0;32m~/anaconda3/envs/DataScientistCourse/lib/python3.11/site-packages/pandas/core/arraylike.py:70\u001B[0m, in \u001B[0;36mOpsMixin.__and__\u001B[0;34m(self, other)\u001B[0m\n\u001B[1;32m     68\u001B[0m \u001B[38;5;129m@unpack_zerodim_and_defer\u001B[39m(\u001B[38;5;124m\"\u001B[39m\u001B[38;5;124m__and__\u001B[39m\u001B[38;5;124m\"\u001B[39m)\n\u001B[1;32m     69\u001B[0m \u001B[38;5;28;01mdef\u001B[39;00m \u001B[38;5;21m__and__\u001B[39m(\u001B[38;5;28mself\u001B[39m, other):\n\u001B[0;32m---> 70\u001B[0m     \u001B[38;5;28;01mreturn\u001B[39;00m \u001B[38;5;28mself\u001B[39m\u001B[38;5;241m.\u001B[39m_logical_method(other, operator\u001B[38;5;241m.\u001B[39mand_)\n",
      "File \u001B[0;32m~/anaconda3/envs/DataScientistCourse/lib/python3.11/site-packages/pandas/core/series.py:6107\u001B[0m, in \u001B[0;36mSeries._logical_method\u001B[0;34m(self, other, op)\u001B[0m\n\u001B[1;32m   6104\u001B[0m lvalues \u001B[38;5;241m=\u001B[39m \u001B[38;5;28mself\u001B[39m\u001B[38;5;241m.\u001B[39m_values\n\u001B[1;32m   6105\u001B[0m rvalues \u001B[38;5;241m=\u001B[39m extract_array(other, extract_numpy\u001B[38;5;241m=\u001B[39m\u001B[38;5;28;01mTrue\u001B[39;00m, extract_range\u001B[38;5;241m=\u001B[39m\u001B[38;5;28;01mTrue\u001B[39;00m)\n\u001B[0;32m-> 6107\u001B[0m res_values \u001B[38;5;241m=\u001B[39m ops\u001B[38;5;241m.\u001B[39mlogical_op(lvalues, rvalues, op)\n\u001B[1;32m   6108\u001B[0m \u001B[38;5;28;01mreturn\u001B[39;00m \u001B[38;5;28mself\u001B[39m\u001B[38;5;241m.\u001B[39m_construct_result(res_values, name\u001B[38;5;241m=\u001B[39mres_name)\n",
      "File \u001B[0;32m~/anaconda3/envs/DataScientistCourse/lib/python3.11/site-packages/pandas/core/ops/array_ops.py:401\u001B[0m, in \u001B[0;36mlogical_op\u001B[0;34m(left, right, op)\u001B[0m\n\u001B[1;32m    397\u001B[0m \u001B[38;5;66;03m# For int vs int `^`, `|`, `&` are bitwise operators and return\u001B[39;00m\n\u001B[1;32m    398\u001B[0m \u001B[38;5;66;03m#   integer dtypes.  Otherwise these are boolean ops\u001B[39;00m\n\u001B[1;32m    399\u001B[0m filler \u001B[38;5;241m=\u001B[39m fill_int \u001B[38;5;28;01mif\u001B[39;00m is_self_int_dtype \u001B[38;5;129;01mand\u001B[39;00m is_other_int_dtype \u001B[38;5;28;01melse\u001B[39;00m fill_bool\n\u001B[0;32m--> 401\u001B[0m res_values \u001B[38;5;241m=\u001B[39m na_logical_op(lvalues, rvalues, op)\n\u001B[1;32m    402\u001B[0m \u001B[38;5;66;03m# error: Cannot call function of unknown type\u001B[39;00m\n\u001B[1;32m    403\u001B[0m res_values \u001B[38;5;241m=\u001B[39m filler(res_values)  \u001B[38;5;66;03m# type: ignore[operator]\u001B[39;00m\n",
      "File \u001B[0;32m~/anaconda3/envs/DataScientistCourse/lib/python3.11/site-packages/pandas/core/ops/array_ops.py:311\u001B[0m, in \u001B[0;36mna_logical_op\u001B[0;34m(x, y, op)\u001B[0m\n\u001B[1;32m    301\u001B[0m \u001B[38;5;28;01mdef\u001B[39;00m \u001B[38;5;21mna_logical_op\u001B[39m(x: np\u001B[38;5;241m.\u001B[39mndarray, y, op):\n\u001B[1;32m    302\u001B[0m     \u001B[38;5;28;01mtry\u001B[39;00m:\n\u001B[1;32m    303\u001B[0m         \u001B[38;5;66;03m# For exposition, write:\u001B[39;00m\n\u001B[1;32m    304\u001B[0m         \u001B[38;5;66;03m#  yarr = isinstance(y, np.ndarray)\u001B[39;00m\n\u001B[0;32m   (...)\u001B[0m\n\u001B[1;32m    309\u001B[0m         \u001B[38;5;66;03m# Then Cases where this goes through without raising include:\u001B[39;00m\n\u001B[1;32m    310\u001B[0m         \u001B[38;5;66;03m#  (xint or xbool) and (yint or bool)\u001B[39;00m\n\u001B[0;32m--> 311\u001B[0m         result \u001B[38;5;241m=\u001B[39m op(x, y)\n\u001B[1;32m    312\u001B[0m     \u001B[38;5;28;01mexcept\u001B[39;00m \u001B[38;5;167;01mTypeError\u001B[39;00m:\n\u001B[1;32m    313\u001B[0m         \u001B[38;5;28;01mif\u001B[39;00m \u001B[38;5;28misinstance\u001B[39m(y, np\u001B[38;5;241m.\u001B[39mndarray):\n\u001B[1;32m    314\u001B[0m             \u001B[38;5;66;03m# bool-bool dtype operations should be OK, should not get here\u001B[39;00m\n",
      "\u001B[0;31mValueError\u001B[0m: operands could not be broadcast together with shapes (10,) (2,) "
     ]
    }
   ],
   "source": [
    "df.loc[(df.Var1 > 15) & [\"Var1\",\"Var2\"]]\n"
   ],
   "metadata": {
    "collapsed": false,
    "ExecuteTime": {
     "end_time": "2023-08-13T15:32:50.162479Z",
     "start_time": "2023-08-13T15:32:50.134826Z"
    }
   },
   "id": "1ff1efe54ed48132"
  },
  {
   "cell_type": "code",
   "execution_count": null,
   "outputs": [],
   "source": [],
   "metadata": {
    "collapsed": false
   },
   "id": "8c430efbcd9f2279"
  }
 ],
 "metadata": {
  "kernelspec": {
   "display_name": "Python 3",
   "language": "python",
   "name": "python3"
  },
  "language_info": {
   "codemirror_mode": {
    "name": "ipython",
    "version": 2
   },
   "file_extension": ".py",
   "mimetype": "text/x-python",
   "name": "python",
   "nbconvert_exporter": "python",
   "pygments_lexer": "ipython2",
   "version": "2.7.6"
  }
 },
 "nbformat": 4,
 "nbformat_minor": 5
}
