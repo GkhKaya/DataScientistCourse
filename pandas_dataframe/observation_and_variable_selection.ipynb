{
 "cells": [
  {
   "cell_type": "code",
   "execution_count": 3,
   "id": "initial_id",
   "metadata": {
    "collapsed": true,
    "ExecuteTime": {
     "end_time": "2023-08-12T17:56:11.026226Z",
     "start_time": "2023-08-12T17:56:11.022Z"
    }
   },
   "outputs": [
    {
     "data": {
      "text/plain": "   Var1  var2  var3\n0    13    12     1\n1    13     2     4\n2     6    22     4\n3    27     9    26\n4    12     7    20\n5     9    14    29\n6    26    11     2\n7    15    22     8\n8     2    16    23\n9     1     3    15",
      "text/html": "<div>\n<style scoped>\n    .dataframe tbody tr th:only-of-type {\n        vertical-align: middle;\n    }\n\n    .dataframe tbody tr th {\n        vertical-align: top;\n    }\n\n    .dataframe thead th {\n        text-align: right;\n    }\n</style>\n<table border=\"1\" class=\"dataframe\">\n  <thead>\n    <tr style=\"text-align: right;\">\n      <th></th>\n      <th>Var1</th>\n      <th>var2</th>\n      <th>var3</th>\n    </tr>\n  </thead>\n  <tbody>\n    <tr>\n      <th>0</th>\n      <td>13</td>\n      <td>12</td>\n      <td>1</td>\n    </tr>\n    <tr>\n      <th>1</th>\n      <td>13</td>\n      <td>2</td>\n      <td>4</td>\n    </tr>\n    <tr>\n      <th>2</th>\n      <td>6</td>\n      <td>22</td>\n      <td>4</td>\n    </tr>\n    <tr>\n      <th>3</th>\n      <td>27</td>\n      <td>9</td>\n      <td>26</td>\n    </tr>\n    <tr>\n      <th>4</th>\n      <td>12</td>\n      <td>7</td>\n      <td>20</td>\n    </tr>\n    <tr>\n      <th>5</th>\n      <td>9</td>\n      <td>14</td>\n      <td>29</td>\n    </tr>\n    <tr>\n      <th>6</th>\n      <td>26</td>\n      <td>11</td>\n      <td>2</td>\n    </tr>\n    <tr>\n      <th>7</th>\n      <td>15</td>\n      <td>22</td>\n      <td>8</td>\n    </tr>\n    <tr>\n      <th>8</th>\n      <td>2</td>\n      <td>16</td>\n      <td>23</td>\n    </tr>\n    <tr>\n      <th>9</th>\n      <td>1</td>\n      <td>3</td>\n      <td>15</td>\n    </tr>\n  </tbody>\n</table>\n</div>"
     },
     "execution_count": 3,
     "metadata": {},
     "output_type": "execute_result"
    }
   ],
   "source": [
    "import numpy as np\n",
    "import pandas as pd\n",
    "m = np. random. randint (1,30, size = (10, 3))\n",
    "df = pd. DataFrame (m, columns = [\"Var1\", \"var2\", \"var3\"])\n",
    "df"
   ]
  },
  {
   "cell_type": "markdown",
   "source": [],
   "metadata": {
    "collapsed": false
   },
   "id": "94b1b41270d31fdb"
  },
  {
   "cell_type": "code",
   "execution_count": 4,
   "outputs": [],
   "source": [
    "#loc"
   ],
   "metadata": {
    "collapsed": false,
    "ExecuteTime": {
     "end_time": "2023-08-12T18:28:29.732907Z",
     "start_time": "2023-08-12T18:28:29.723704Z"
    }
   },
   "id": "68772dc6b0562232"
  },
  {
   "cell_type": "code",
   "execution_count": 5,
   "outputs": [
    {
     "data": {
      "text/plain": "   Var1  var2  var3\n0    13    12     1\n1    13     2     4\n2     6    22     4\n3    27     9    26",
      "text/html": "<div>\n<style scoped>\n    .dataframe tbody tr th:only-of-type {\n        vertical-align: middle;\n    }\n\n    .dataframe tbody tr th {\n        vertical-align: top;\n    }\n\n    .dataframe thead th {\n        text-align: right;\n    }\n</style>\n<table border=\"1\" class=\"dataframe\">\n  <thead>\n    <tr style=\"text-align: right;\">\n      <th></th>\n      <th>Var1</th>\n      <th>var2</th>\n      <th>var3</th>\n    </tr>\n  </thead>\n  <tbody>\n    <tr>\n      <th>0</th>\n      <td>13</td>\n      <td>12</td>\n      <td>1</td>\n    </tr>\n    <tr>\n      <th>1</th>\n      <td>13</td>\n      <td>2</td>\n      <td>4</td>\n    </tr>\n    <tr>\n      <th>2</th>\n      <td>6</td>\n      <td>22</td>\n      <td>4</td>\n    </tr>\n    <tr>\n      <th>3</th>\n      <td>27</td>\n      <td>9</td>\n      <td>26</td>\n    </tr>\n  </tbody>\n</table>\n</div>"
     },
     "execution_count": 5,
     "metadata": {},
     "output_type": "execute_result"
    }
   ],
   "source": [
    "df.loc[0:3]"
   ],
   "metadata": {
    "collapsed": false,
    "ExecuteTime": {
     "end_time": "2023-08-12T18:28:54.367954Z",
     "start_time": "2023-08-12T18:28:54.353378Z"
    }
   },
   "id": "316ccaa1e1c3a563"
  },
  {
   "cell_type": "code",
   "execution_count": 6,
   "outputs": [
    {
     "data": {
      "text/plain": "   Var1  var2  var3\n0    13    12     1\n1    13     2     4\n2     6    22     4",
      "text/html": "<div>\n<style scoped>\n    .dataframe tbody tr th:only-of-type {\n        vertical-align: middle;\n    }\n\n    .dataframe tbody tr th {\n        vertical-align: top;\n    }\n\n    .dataframe thead th {\n        text-align: right;\n    }\n</style>\n<table border=\"1\" class=\"dataframe\">\n  <thead>\n    <tr style=\"text-align: right;\">\n      <th></th>\n      <th>Var1</th>\n      <th>var2</th>\n      <th>var3</th>\n    </tr>\n  </thead>\n  <tbody>\n    <tr>\n      <th>0</th>\n      <td>13</td>\n      <td>12</td>\n      <td>1</td>\n    </tr>\n    <tr>\n      <th>1</th>\n      <td>13</td>\n      <td>2</td>\n      <td>4</td>\n    </tr>\n    <tr>\n      <th>2</th>\n      <td>6</td>\n      <td>22</td>\n      <td>4</td>\n    </tr>\n  </tbody>\n</table>\n</div>"
     },
     "execution_count": 6,
     "metadata": {},
     "output_type": "execute_result"
    }
   ],
   "source": [
    "df.iloc[0:3]"
   ],
   "metadata": {
    "collapsed": false,
    "ExecuteTime": {
     "end_time": "2023-08-12T18:31:54.589938Z",
     "start_time": "2023-08-12T18:31:54.584616Z"
    }
   },
   "id": "eb2ea09f19978c72"
  },
  {
   "cell_type": "code",
   "execution_count": null,
   "outputs": [],
   "source": [],
   "metadata": {
    "collapsed": false
   },
   "id": "c876fc177fad996"
  }
 ],
 "metadata": {
  "kernelspec": {
   "display_name": "Python 3",
   "language": "python",
   "name": "python3"
  },
  "language_info": {
   "codemirror_mode": {
    "name": "ipython",
    "version": 2
   },
   "file_extension": ".py",
   "mimetype": "text/x-python",
   "name": "python",
   "nbconvert_exporter": "python",
   "pygments_lexer": "ipython2",
   "version": "2.7.6"
  }
 },
 "nbformat": 4,
 "nbformat_minor": 5
}
