{
 "cells": [
  {
   "cell_type": "code",
   "execution_count": 2,
   "id": "initial_id",
   "metadata": {
    "collapsed": true,
    "ExecuteTime": {
     "end_time": "2023-08-12T17:37:15.493288Z",
     "start_time": "2023-08-12T17:37:15.489797Z"
    }
   },
   "outputs": [],
   "source": [
    "import pandas as pd"
   ]
  },
  {
   "cell_type": "code",
   "execution_count": 3,
   "outputs": [],
   "source": [
    "import numpy as np\n",
    "s1 = np. random. randint (10, size = 5)\n",
    "s2 = np. random. randint (10, size = 5)\n",
    "s3 = np. random. randint (10, size = 5)"
   ],
   "metadata": {
    "collapsed": false,
    "ExecuteTime": {
     "end_time": "2023-08-12T17:39:41.528224Z",
     "start_time": "2023-08-12T17:39:41.521071Z"
    }
   },
   "id": "799f54f9b999344"
  },
  {
   "cell_type": "code",
   "execution_count": 4,
   "outputs": [],
   "source": [
    "dictionary = {\"var1\":s1,\"var2\":s2,\"var3\":3}"
   ],
   "metadata": {
    "collapsed": false,
    "ExecuteTime": {
     "end_time": "2023-08-12T17:40:14.028470Z",
     "start_time": "2023-08-12T17:40:14.013254Z"
    }
   },
   "id": "199b293661066d52"
  },
  {
   "cell_type": "code",
   "execution_count": 5,
   "outputs": [
    {
     "data": {
      "text/plain": "{'var1': array([6, 3, 5, 5, 9]), 'var2': array([7, 5, 9, 4, 2]), 'var3': 3}"
     },
     "execution_count": 5,
     "metadata": {},
     "output_type": "execute_result"
    }
   ],
   "source": [
    "dictionary"
   ],
   "metadata": {
    "collapsed": false,
    "ExecuteTime": {
     "end_time": "2023-08-12T17:40:16.454784Z",
     "start_time": "2023-08-12T17:40:16.451860Z"
    }
   },
   "id": "253e227c52234f97"
  },
  {
   "cell_type": "code",
   "execution_count": 6,
   "outputs": [],
   "source": [
    "df = pd.DataFrame(dictionary)"
   ],
   "metadata": {
    "collapsed": false,
    "ExecuteTime": {
     "end_time": "2023-08-12T17:40:44.852441Z",
     "start_time": "2023-08-12T17:40:44.844297Z"
    }
   },
   "id": "e008197a49b21ab7"
  },
  {
   "cell_type": "code",
   "execution_count": 7,
   "outputs": [
    {
     "data": {
      "text/plain": "   var1  var2  var3\n0     6     7     3\n1     3     5     3\n2     5     9     3\n3     5     4     3\n4     9     2     3",
      "text/html": "<div>\n<style scoped>\n    .dataframe tbody tr th:only-of-type {\n        vertical-align: middle;\n    }\n\n    .dataframe tbody tr th {\n        vertical-align: top;\n    }\n\n    .dataframe thead th {\n        text-align: right;\n    }\n</style>\n<table border=\"1\" class=\"dataframe\">\n  <thead>\n    <tr style=\"text-align: right;\">\n      <th></th>\n      <th>var1</th>\n      <th>var2</th>\n      <th>var3</th>\n    </tr>\n  </thead>\n  <tbody>\n    <tr>\n      <th>0</th>\n      <td>6</td>\n      <td>7</td>\n      <td>3</td>\n    </tr>\n    <tr>\n      <th>1</th>\n      <td>3</td>\n      <td>5</td>\n      <td>3</td>\n    </tr>\n    <tr>\n      <th>2</th>\n      <td>5</td>\n      <td>9</td>\n      <td>3</td>\n    </tr>\n    <tr>\n      <th>3</th>\n      <td>5</td>\n      <td>4</td>\n      <td>3</td>\n    </tr>\n    <tr>\n      <th>4</th>\n      <td>9</td>\n      <td>2</td>\n      <td>3</td>\n    </tr>\n  </tbody>\n</table>\n</div>"
     },
     "execution_count": 7,
     "metadata": {},
     "output_type": "execute_result"
    }
   ],
   "source": [
    "df"
   ],
   "metadata": {
    "collapsed": false,
    "ExecuteTime": {
     "end_time": "2023-08-12T17:40:45.936281Z",
     "start_time": "2023-08-12T17:40:45.931516Z"
    }
   },
   "id": "5ad508d190ec22ee"
  },
  {
   "cell_type": "code",
   "execution_count": 8,
   "outputs": [
    {
     "data": {
      "text/plain": "   var1  var2  var3\n0     6     7     3",
      "text/html": "<div>\n<style scoped>\n    .dataframe tbody tr th:only-of-type {\n        vertical-align: middle;\n    }\n\n    .dataframe tbody tr th {\n        vertical-align: top;\n    }\n\n    .dataframe thead th {\n        text-align: right;\n    }\n</style>\n<table border=\"1\" class=\"dataframe\">\n  <thead>\n    <tr style=\"text-align: right;\">\n      <th></th>\n      <th>var1</th>\n      <th>var2</th>\n      <th>var3</th>\n    </tr>\n  </thead>\n  <tbody>\n    <tr>\n      <th>0</th>\n      <td>6</td>\n      <td>7</td>\n      <td>3</td>\n    </tr>\n  </tbody>\n</table>\n</div>"
     },
     "execution_count": 8,
     "metadata": {},
     "output_type": "execute_result"
    }
   ],
   "source": [
    "df[0:1]"
   ],
   "metadata": {
    "collapsed": false,
    "ExecuteTime": {
     "end_time": "2023-08-12T17:40:53.439798Z",
     "start_time": "2023-08-12T17:40:53.434676Z"
    }
   },
   "id": "e8424dba5627bf87"
  },
  {
   "cell_type": "code",
   "execution_count": 9,
   "outputs": [
    {
     "data": {
      "text/plain": "RangeIndex(start=0, stop=5, step=1)"
     },
     "execution_count": 9,
     "metadata": {},
     "output_type": "execute_result"
    }
   ],
   "source": [
    "df.index"
   ],
   "metadata": {
    "collapsed": false,
    "ExecuteTime": {
     "end_time": "2023-08-12T17:41:10.060330Z",
     "start_time": "2023-08-12T17:41:10.054906Z"
    }
   },
   "id": "2e845d984283f0bb"
  },
  {
   "cell_type": "code",
   "execution_count": 11,
   "outputs": [],
   "source": [
    "df.index = [\"a\",\"b\",\"c\",\"d\",\"e\"]"
   ],
   "metadata": {
    "collapsed": false,
    "ExecuteTime": {
     "end_time": "2023-08-12T17:41:31.826040Z",
     "start_time": "2023-08-12T17:41:31.814231Z"
    }
   },
   "id": "6a5234ec8cc4ad9d"
  },
  {
   "cell_type": "code",
   "execution_count": 12,
   "outputs": [
    {
     "data": {
      "text/plain": "   var1  var2  var3\nc     5     9     3\nd     5     4     3\ne     9     2     3",
      "text/html": "<div>\n<style scoped>\n    .dataframe tbody tr th:only-of-type {\n        vertical-align: middle;\n    }\n\n    .dataframe tbody tr th {\n        vertical-align: top;\n    }\n\n    .dataframe thead th {\n        text-align: right;\n    }\n</style>\n<table border=\"1\" class=\"dataframe\">\n  <thead>\n    <tr style=\"text-align: right;\">\n      <th></th>\n      <th>var1</th>\n      <th>var2</th>\n      <th>var3</th>\n    </tr>\n  </thead>\n  <tbody>\n    <tr>\n      <th>c</th>\n      <td>5</td>\n      <td>9</td>\n      <td>3</td>\n    </tr>\n    <tr>\n      <th>d</th>\n      <td>5</td>\n      <td>4</td>\n      <td>3</td>\n    </tr>\n    <tr>\n      <th>e</th>\n      <td>9</td>\n      <td>2</td>\n      <td>3</td>\n    </tr>\n  </tbody>\n</table>\n</div>"
     },
     "execution_count": 12,
     "metadata": {},
     "output_type": "execute_result"
    }
   ],
   "source": [
    "df[\"c\":\"e\"]"
   ],
   "metadata": {
    "collapsed": false,
    "ExecuteTime": {
     "end_time": "2023-08-12T17:41:41.422203Z",
     "start_time": "2023-08-12T17:41:41.417908Z"
    }
   },
   "id": "7e1b441ce55ad954"
  },
  {
   "cell_type": "code",
   "execution_count": 13,
   "outputs": [],
   "source": [
    "#delete"
   ],
   "metadata": {
    "collapsed": false,
    "ExecuteTime": {
     "end_time": "2023-08-12T17:41:50.942876Z",
     "start_time": "2023-08-12T17:41:50.934592Z"
    }
   },
   "id": "97958a1fb6b1e8cc"
  },
  {
   "cell_type": "code",
   "execution_count": 14,
   "outputs": [
    {
     "data": {
      "text/plain": "   var1  var2  var3\nb     3     5     3\nc     5     9     3\nd     5     4     3\ne     9     2     3",
      "text/html": "<div>\n<style scoped>\n    .dataframe tbody tr th:only-of-type {\n        vertical-align: middle;\n    }\n\n    .dataframe tbody tr th {\n        vertical-align: top;\n    }\n\n    .dataframe thead th {\n        text-align: right;\n    }\n</style>\n<table border=\"1\" class=\"dataframe\">\n  <thead>\n    <tr style=\"text-align: right;\">\n      <th></th>\n      <th>var1</th>\n      <th>var2</th>\n      <th>var3</th>\n    </tr>\n  </thead>\n  <tbody>\n    <tr>\n      <th>b</th>\n      <td>3</td>\n      <td>5</td>\n      <td>3</td>\n    </tr>\n    <tr>\n      <th>c</th>\n      <td>5</td>\n      <td>9</td>\n      <td>3</td>\n    </tr>\n    <tr>\n      <th>d</th>\n      <td>5</td>\n      <td>4</td>\n      <td>3</td>\n    </tr>\n    <tr>\n      <th>e</th>\n      <td>9</td>\n      <td>2</td>\n      <td>3</td>\n    </tr>\n  </tbody>\n</table>\n</div>"
     },
     "execution_count": 14,
     "metadata": {},
     "output_type": "execute_result"
    }
   ],
   "source": [
    "df.drop(\"a\",axis=0)"
   ],
   "metadata": {
    "collapsed": false,
    "ExecuteTime": {
     "end_time": "2023-08-12T17:41:57.786303Z",
     "start_time": "2023-08-12T17:41:57.780459Z"
    }
   },
   "id": "63db2eb241038171"
  },
  {
   "cell_type": "code",
   "execution_count": 15,
   "outputs": [
    {
     "data": {
      "text/plain": "   var1  var2  var3\na     6     7     3\nb     3     5     3\nc     5     9     3\nd     5     4     3\ne     9     2     3",
      "text/html": "<div>\n<style scoped>\n    .dataframe tbody tr th:only-of-type {\n        vertical-align: middle;\n    }\n\n    .dataframe tbody tr th {\n        vertical-align: top;\n    }\n\n    .dataframe thead th {\n        text-align: right;\n    }\n</style>\n<table border=\"1\" class=\"dataframe\">\n  <thead>\n    <tr style=\"text-align: right;\">\n      <th></th>\n      <th>var1</th>\n      <th>var2</th>\n      <th>var3</th>\n    </tr>\n  </thead>\n  <tbody>\n    <tr>\n      <th>a</th>\n      <td>6</td>\n      <td>7</td>\n      <td>3</td>\n    </tr>\n    <tr>\n      <th>b</th>\n      <td>3</td>\n      <td>5</td>\n      <td>3</td>\n    </tr>\n    <tr>\n      <th>c</th>\n      <td>5</td>\n      <td>9</td>\n      <td>3</td>\n    </tr>\n    <tr>\n      <th>d</th>\n      <td>5</td>\n      <td>4</td>\n      <td>3</td>\n    </tr>\n    <tr>\n      <th>e</th>\n      <td>9</td>\n      <td>2</td>\n      <td>3</td>\n    </tr>\n  </tbody>\n</table>\n</div>"
     },
     "execution_count": 15,
     "metadata": {},
     "output_type": "execute_result"
    }
   ],
   "source": [
    "df"
   ],
   "metadata": {
    "collapsed": false,
    "ExecuteTime": {
     "end_time": "2023-08-12T17:44:36.104761Z",
     "start_time": "2023-08-12T17:44:36.099462Z"
    }
   },
   "id": "76b6be237c0a6125"
  },
  {
   "cell_type": "code",
   "execution_count": 16,
   "outputs": [],
   "source": [
    "df.drop(\"a\",axis=0,inplace=True)"
   ],
   "metadata": {
    "collapsed": false,
    "ExecuteTime": {
     "end_time": "2023-08-12T17:45:09.120665Z",
     "start_time": "2023-08-12T17:45:09.113791Z"
    }
   },
   "id": "9a9598ff3d6b5b33"
  },
  {
   "cell_type": "code",
   "execution_count": 17,
   "outputs": [
    {
     "data": {
      "text/plain": "   var1  var2  var3\nb     3     5     3\nc     5     9     3\nd     5     4     3\ne     9     2     3",
      "text/html": "<div>\n<style scoped>\n    .dataframe tbody tr th:only-of-type {\n        vertical-align: middle;\n    }\n\n    .dataframe tbody tr th {\n        vertical-align: top;\n    }\n\n    .dataframe thead th {\n        text-align: right;\n    }\n</style>\n<table border=\"1\" class=\"dataframe\">\n  <thead>\n    <tr style=\"text-align: right;\">\n      <th></th>\n      <th>var1</th>\n      <th>var2</th>\n      <th>var3</th>\n    </tr>\n  </thead>\n  <tbody>\n    <tr>\n      <th>b</th>\n      <td>3</td>\n      <td>5</td>\n      <td>3</td>\n    </tr>\n    <tr>\n      <th>c</th>\n      <td>5</td>\n      <td>9</td>\n      <td>3</td>\n    </tr>\n    <tr>\n      <th>d</th>\n      <td>5</td>\n      <td>4</td>\n      <td>3</td>\n    </tr>\n    <tr>\n      <th>e</th>\n      <td>9</td>\n      <td>2</td>\n      <td>3</td>\n    </tr>\n  </tbody>\n</table>\n</div>"
     },
     "execution_count": 17,
     "metadata": {},
     "output_type": "execute_result"
    }
   ],
   "source": [
    "df"
   ],
   "metadata": {
    "collapsed": false,
    "ExecuteTime": {
     "end_time": "2023-08-12T17:45:10.234679Z",
     "start_time": "2023-08-12T17:45:10.212354Z"
    }
   },
   "id": "223bf78333f57323"
  },
  {
   "cell_type": "code",
   "execution_count": 18,
   "outputs": [],
   "source": [
    "#fancy"
   ],
   "metadata": {
    "collapsed": false,
    "ExecuteTime": {
     "end_time": "2023-08-12T17:45:49.147405Z",
     "start_time": "2023-08-12T17:45:49.139512Z"
    }
   },
   "id": "3795ef757ecd8d60"
  },
  {
   "cell_type": "code",
   "execution_count": 19,
   "outputs": [],
   "source": [
    "l=[\"c\",\"e\"]"
   ],
   "metadata": {
    "collapsed": false,
    "ExecuteTime": {
     "end_time": "2023-08-12T17:45:56.214461Z",
     "start_time": "2023-08-12T17:45:56.204446Z"
    }
   },
   "id": "ec6e3ad671a4c5e"
  },
  {
   "cell_type": "code",
   "execution_count": 20,
   "outputs": [
    {
     "data": {
      "text/plain": "   var1  var2  var3\nb     3     5     3\nd     5     4     3",
      "text/html": "<div>\n<style scoped>\n    .dataframe tbody tr th:only-of-type {\n        vertical-align: middle;\n    }\n\n    .dataframe tbody tr th {\n        vertical-align: top;\n    }\n\n    .dataframe thead th {\n        text-align: right;\n    }\n</style>\n<table border=\"1\" class=\"dataframe\">\n  <thead>\n    <tr style=\"text-align: right;\">\n      <th></th>\n      <th>var1</th>\n      <th>var2</th>\n      <th>var3</th>\n    </tr>\n  </thead>\n  <tbody>\n    <tr>\n      <th>b</th>\n      <td>3</td>\n      <td>5</td>\n      <td>3</td>\n    </tr>\n    <tr>\n      <th>d</th>\n      <td>5</td>\n      <td>4</td>\n      <td>3</td>\n    </tr>\n  </tbody>\n</table>\n</div>"
     },
     "execution_count": 20,
     "metadata": {},
     "output_type": "execute_result"
    }
   ],
   "source": [
    "df.drop(l,axis=0)"
   ],
   "metadata": {
    "collapsed": false,
    "ExecuteTime": {
     "end_time": "2023-08-12T17:46:03.930004Z",
     "start_time": "2023-08-12T17:46:03.918697Z"
    }
   },
   "id": "6abb218c6edd3bc0"
  },
  {
   "cell_type": "code",
   "execution_count": 21,
   "outputs": [],
   "source": [
    "#vareible"
   ],
   "metadata": {
    "collapsed": false,
    "ExecuteTime": {
     "end_time": "2023-08-12T17:46:26.708141Z",
     "start_time": "2023-08-12T17:46:26.700346Z"
    }
   },
   "id": "3231660c604d3960"
  },
  {
   "cell_type": "code",
   "execution_count": 22,
   "outputs": [
    {
     "data": {
      "text/plain": "True"
     },
     "execution_count": 22,
     "metadata": {},
     "output_type": "execute_result"
    }
   ],
   "source": [
    "\"var1\" in df"
   ],
   "metadata": {
    "collapsed": false,
    "ExecuteTime": {
     "end_time": "2023-08-12T17:46:32.957205Z",
     "start_time": "2023-08-12T17:46:32.948838Z"
    }
   },
   "id": "b395e9fed3c1b6e4"
  },
  {
   "cell_type": "code",
   "execution_count": 24,
   "outputs": [
    {
     "name": "stdout",
     "output_type": "stream",
     "text": [
      "True\n",
      "False\n",
      "True\n"
     ]
    }
   ],
   "source": [
    "l = [\"var1\",\"var4\",\"var2\"]\n",
    "for i in l:\n",
    "    print(i in df)"
   ],
   "metadata": {
    "collapsed": false,
    "ExecuteTime": {
     "end_time": "2023-08-12T17:47:06.431572Z",
     "start_time": "2023-08-12T17:47:06.422157Z"
    }
   },
   "id": "e35cd46771a5c9ff"
  },
  {
   "cell_type": "code",
   "execution_count": 25,
   "outputs": [],
   "source": [
    "df[\"var4\"] =  df[\"var1\"] / df[\"var2\"]"
   ],
   "metadata": {
    "collapsed": false,
    "ExecuteTime": {
     "end_time": "2023-08-12T17:49:46.552226Z",
     "start_time": "2023-08-12T17:49:46.546526Z"
    }
   },
   "id": "a9fd2bd806336536"
  },
  {
   "cell_type": "code",
   "execution_count": 26,
   "outputs": [
    {
     "data": {
      "text/plain": "   var1  var2  var3      var4\nb     3     5     3  0.600000\nc     5     9     3  0.555556\nd     5     4     3  1.250000\ne     9     2     3  4.500000",
      "text/html": "<div>\n<style scoped>\n    .dataframe tbody tr th:only-of-type {\n        vertical-align: middle;\n    }\n\n    .dataframe tbody tr th {\n        vertical-align: top;\n    }\n\n    .dataframe thead th {\n        text-align: right;\n    }\n</style>\n<table border=\"1\" class=\"dataframe\">\n  <thead>\n    <tr style=\"text-align: right;\">\n      <th></th>\n      <th>var1</th>\n      <th>var2</th>\n      <th>var3</th>\n      <th>var4</th>\n    </tr>\n  </thead>\n  <tbody>\n    <tr>\n      <th>b</th>\n      <td>3</td>\n      <td>5</td>\n      <td>3</td>\n      <td>0.600000</td>\n    </tr>\n    <tr>\n      <th>c</th>\n      <td>5</td>\n      <td>9</td>\n      <td>3</td>\n      <td>0.555556</td>\n    </tr>\n    <tr>\n      <th>d</th>\n      <td>5</td>\n      <td>4</td>\n      <td>3</td>\n      <td>1.250000</td>\n    </tr>\n    <tr>\n      <th>e</th>\n      <td>9</td>\n      <td>2</td>\n      <td>3</td>\n      <td>4.500000</td>\n    </tr>\n  </tbody>\n</table>\n</div>"
     },
     "execution_count": 26,
     "metadata": {},
     "output_type": "execute_result"
    }
   ],
   "source": [
    "df"
   ],
   "metadata": {
    "collapsed": false,
    "ExecuteTime": {
     "end_time": "2023-08-12T17:49:48.782233Z",
     "start_time": "2023-08-12T17:49:48.771635Z"
    }
   },
   "id": "cf9d342b991b8f52"
  },
  {
   "cell_type": "code",
   "execution_count": 27,
   "outputs": [],
   "source": [
    "#delete"
   ],
   "metadata": {
    "collapsed": false,
    "ExecuteTime": {
     "end_time": "2023-08-12T17:50:12.719162Z",
     "start_time": "2023-08-12T17:50:12.709248Z"
    }
   },
   "id": "133eaba0d795d4ee"
  },
  {
   "cell_type": "code",
   "execution_count": 28,
   "outputs": [
    {
     "data": {
      "text/plain": "   var1  var2  var3\nb     3     5     3\nc     5     9     3\nd     5     4     3\ne     9     2     3",
      "text/html": "<div>\n<style scoped>\n    .dataframe tbody tr th:only-of-type {\n        vertical-align: middle;\n    }\n\n    .dataframe tbody tr th {\n        vertical-align: top;\n    }\n\n    .dataframe thead th {\n        text-align: right;\n    }\n</style>\n<table border=\"1\" class=\"dataframe\">\n  <thead>\n    <tr style=\"text-align: right;\">\n      <th></th>\n      <th>var1</th>\n      <th>var2</th>\n      <th>var3</th>\n    </tr>\n  </thead>\n  <tbody>\n    <tr>\n      <th>b</th>\n      <td>3</td>\n      <td>5</td>\n      <td>3</td>\n    </tr>\n    <tr>\n      <th>c</th>\n      <td>5</td>\n      <td>9</td>\n      <td>3</td>\n    </tr>\n    <tr>\n      <th>d</th>\n      <td>5</td>\n      <td>4</td>\n      <td>3</td>\n    </tr>\n    <tr>\n      <th>e</th>\n      <td>9</td>\n      <td>2</td>\n      <td>3</td>\n    </tr>\n  </tbody>\n</table>\n</div>"
     },
     "execution_count": 28,
     "metadata": {},
     "output_type": "execute_result"
    }
   ],
   "source": [
    "df.drop(\"var4\",axis=1)"
   ],
   "metadata": {
    "collapsed": false,
    "ExecuteTime": {
     "end_time": "2023-08-12T17:50:30.554287Z",
     "start_time": "2023-08-12T17:50:30.545668Z"
    }
   },
   "id": "19eb4b53989298ec"
  },
  {
   "cell_type": "code",
   "execution_count": 29,
   "outputs": [
    {
     "data": {
      "text/plain": "   var1  var2  var3      var4\nb     3     5     3  0.600000\nc     5     9     3  0.555556\nd     5     4     3  1.250000\ne     9     2     3  4.500000",
      "text/html": "<div>\n<style scoped>\n    .dataframe tbody tr th:only-of-type {\n        vertical-align: middle;\n    }\n\n    .dataframe tbody tr th {\n        vertical-align: top;\n    }\n\n    .dataframe thead th {\n        text-align: right;\n    }\n</style>\n<table border=\"1\" class=\"dataframe\">\n  <thead>\n    <tr style=\"text-align: right;\">\n      <th></th>\n      <th>var1</th>\n      <th>var2</th>\n      <th>var3</th>\n      <th>var4</th>\n    </tr>\n  </thead>\n  <tbody>\n    <tr>\n      <th>b</th>\n      <td>3</td>\n      <td>5</td>\n      <td>3</td>\n      <td>0.600000</td>\n    </tr>\n    <tr>\n      <th>c</th>\n      <td>5</td>\n      <td>9</td>\n      <td>3</td>\n      <td>0.555556</td>\n    </tr>\n    <tr>\n      <th>d</th>\n      <td>5</td>\n      <td>4</td>\n      <td>3</td>\n      <td>1.250000</td>\n    </tr>\n    <tr>\n      <th>e</th>\n      <td>9</td>\n      <td>2</td>\n      <td>3</td>\n      <td>4.500000</td>\n    </tr>\n  </tbody>\n</table>\n</div>"
     },
     "execution_count": 29,
     "metadata": {},
     "output_type": "execute_result"
    }
   ],
   "source": [
    "df"
   ],
   "metadata": {
    "collapsed": false,
    "ExecuteTime": {
     "end_time": "2023-08-12T17:50:31.903960Z",
     "start_time": "2023-08-12T17:50:31.895433Z"
    }
   },
   "id": "99c5a04ed3ad0d90"
  },
  {
   "cell_type": "code",
   "execution_count": 30,
   "outputs": [],
   "source": [
    "df.drop(\"var4\",axis=1,inplace=True)"
   ],
   "metadata": {
    "collapsed": false,
    "ExecuteTime": {
     "end_time": "2023-08-12T17:50:43.952241Z",
     "start_time": "2023-08-12T17:50:43.941214Z"
    }
   },
   "id": "aca5599073b24345"
  },
  {
   "cell_type": "code",
   "execution_count": 31,
   "outputs": [
    {
     "data": {
      "text/plain": "   var1  var2  var3\nb     3     5     3\nc     5     9     3\nd     5     4     3\ne     9     2     3",
      "text/html": "<div>\n<style scoped>\n    .dataframe tbody tr th:only-of-type {\n        vertical-align: middle;\n    }\n\n    .dataframe tbody tr th {\n        vertical-align: top;\n    }\n\n    .dataframe thead th {\n        text-align: right;\n    }\n</style>\n<table border=\"1\" class=\"dataframe\">\n  <thead>\n    <tr style=\"text-align: right;\">\n      <th></th>\n      <th>var1</th>\n      <th>var2</th>\n      <th>var3</th>\n    </tr>\n  </thead>\n  <tbody>\n    <tr>\n      <th>b</th>\n      <td>3</td>\n      <td>5</td>\n      <td>3</td>\n    </tr>\n    <tr>\n      <th>c</th>\n      <td>5</td>\n      <td>9</td>\n      <td>3</td>\n    </tr>\n    <tr>\n      <th>d</th>\n      <td>5</td>\n      <td>4</td>\n      <td>3</td>\n    </tr>\n    <tr>\n      <th>e</th>\n      <td>9</td>\n      <td>2</td>\n      <td>3</td>\n    </tr>\n  </tbody>\n</table>\n</div>"
     },
     "execution_count": 31,
     "metadata": {},
     "output_type": "execute_result"
    }
   ],
   "source": [
    "df"
   ],
   "metadata": {
    "collapsed": false,
    "ExecuteTime": {
     "end_time": "2023-08-12T17:50:46.608947Z",
     "start_time": "2023-08-12T17:50:46.599008Z"
    }
   },
   "id": "e020016bfea0e8f3"
  },
  {
   "cell_type": "code",
   "execution_count": 32,
   "outputs": [],
   "source": [
    "l = [\"var1\",\"var2\"]"
   ],
   "metadata": {
    "collapsed": false,
    "ExecuteTime": {
     "end_time": "2023-08-12T17:51:11.203496Z",
     "start_time": "2023-08-12T17:51:11.190511Z"
    }
   },
   "id": "2eaa295233cca631"
  },
  {
   "cell_type": "code",
   "execution_count": 33,
   "outputs": [
    {
     "data": {
      "text/plain": "   var3\nb     3\nc     3\nd     3\ne     3",
      "text/html": "<div>\n<style scoped>\n    .dataframe tbody tr th:only-of-type {\n        vertical-align: middle;\n    }\n\n    .dataframe tbody tr th {\n        vertical-align: top;\n    }\n\n    .dataframe thead th {\n        text-align: right;\n    }\n</style>\n<table border=\"1\" class=\"dataframe\">\n  <thead>\n    <tr style=\"text-align: right;\">\n      <th></th>\n      <th>var3</th>\n    </tr>\n  </thead>\n  <tbody>\n    <tr>\n      <th>b</th>\n      <td>3</td>\n    </tr>\n    <tr>\n      <th>c</th>\n      <td>3</td>\n    </tr>\n    <tr>\n      <th>d</th>\n      <td>3</td>\n    </tr>\n    <tr>\n      <th>e</th>\n      <td>3</td>\n    </tr>\n  </tbody>\n</table>\n</div>"
     },
     "execution_count": 33,
     "metadata": {},
     "output_type": "execute_result"
    }
   ],
   "source": [
    "df.drop(l,axis=1)"
   ],
   "metadata": {
    "collapsed": false,
    "ExecuteTime": {
     "end_time": "2023-08-12T17:51:17.745256Z",
     "start_time": "2023-08-12T17:51:17.724128Z"
    }
   },
   "id": "7f44c73b8270a47b"
  },
  {
   "cell_type": "code",
   "execution_count": null,
   "outputs": [],
   "source": [],
   "metadata": {
    "collapsed": false
   },
   "id": "982d664990cb142c"
  }
 ],
 "metadata": {
  "kernelspec": {
   "display_name": "Python 3",
   "language": "python",
   "name": "python3"
  },
  "language_info": {
   "codemirror_mode": {
    "name": "ipython",
    "version": 2
   },
   "file_extension": ".py",
   "mimetype": "text/x-python",
   "name": "python",
   "nbconvert_exporter": "python",
   "pygments_lexer": "ipython2",
   "version": "2.7.6"
  }
 },
 "nbformat": 4,
 "nbformat_minor": 5
}
