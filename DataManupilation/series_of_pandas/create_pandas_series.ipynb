{
 "cells": [
  {
   "cell_type": "code",
   "execution_count": 2,
   "id": "3bd6429b-1eb1-43b2-a891-c20f8ecd1b5a",
   "metadata": {
    "ExecuteTime": {
     "end_time": "2023-08-12T16:46:21.358842Z",
     "start_time": "2023-08-12T16:46:21.119265Z"
    }
   },
   "outputs": [],
   "source": [
    "import  pandas as pd"
   ]
  },
  {
   "cell_type": "code",
   "execution_count": 7,
   "id": "f853749833ff7610",
   "metadata": {
    "collapsed": false,
    "tags": [],
    "ExecuteTime": {
     "end_time": "2023-08-12T16:51:36.245880Z",
     "start_time": "2023-08-12T16:51:36.240631Z"
    }
   },
   "outputs": [],
   "source": [
    "series = pd.Series([10,4,4,4,44,])"
   ]
  },
  {
   "cell_type": "code",
   "execution_count": 8,
   "id": "cca720b0-558e-44bf-bdcf-711d168f8c93",
   "metadata": {
    "ExecuteTime": {
     "end_time": "2023-08-12T16:51:36.995371Z",
     "start_time": "2023-08-12T16:51:36.989899Z"
    }
   },
   "outputs": [
    {
     "data": {
      "text/plain": "pandas.core.series.Series"
     },
     "execution_count": 8,
     "metadata": {},
     "output_type": "execute_result"
    }
   ],
   "source": [
    "type(series)"
   ]
  },
  {
   "cell_type": "code",
   "execution_count": 9,
   "outputs": [
    {
     "data": {
      "text/plain": "[RangeIndex(start=0, stop=5, step=1)]"
     },
     "execution_count": 9,
     "metadata": {},
     "output_type": "execute_result"
    }
   ],
   "source": [
    "series.axes"
   ],
   "metadata": {
    "collapsed": false,
    "ExecuteTime": {
     "end_time": "2023-08-12T16:51:43.203923Z",
     "start_time": "2023-08-12T16:51:43.198222Z"
    }
   },
   "id": "a5d6c927229b08e9"
  },
  {
   "cell_type": "code",
   "execution_count": 10,
   "outputs": [
    {
     "data": {
      "text/plain": "array([10,  4,  4,  4, 44])"
     },
     "execution_count": 10,
     "metadata": {},
     "output_type": "execute_result"
    }
   ],
   "source": [
    "series.values"
   ],
   "metadata": {
    "collapsed": false,
    "ExecuteTime": {
     "end_time": "2023-08-12T16:52:08.588972Z",
     "start_time": "2023-08-12T16:52:08.582621Z"
    }
   },
   "id": "2c01c9a01bfd5e9f"
  },
  {
   "cell_type": "code",
   "execution_count": 11,
   "outputs": [
    {
     "data": {
      "text/plain": "1"
     },
     "execution_count": 11,
     "metadata": {},
     "output_type": "execute_result"
    }
   ],
   "source": [
    "series.ndim"
   ],
   "metadata": {
    "collapsed": false,
    "ExecuteTime": {
     "end_time": "2023-08-12T16:52:11.699021Z",
     "start_time": "2023-08-12T16:52:11.694336Z"
    }
   },
   "id": "d69417e8d6ccf915"
  },
  {
   "cell_type": "code",
   "execution_count": 12,
   "outputs": [
    {
     "data": {
      "text/plain": "5"
     },
     "execution_count": 12,
     "metadata": {},
     "output_type": "execute_result"
    }
   ],
   "source": [
    "series.size"
   ],
   "metadata": {
    "collapsed": false,
    "ExecuteTime": {
     "end_time": "2023-08-12T16:52:14.770749Z",
     "start_time": "2023-08-12T16:52:14.763206Z"
    }
   },
   "id": "53712e67df314d72"
  },
  {
   "cell_type": "code",
   "execution_count": 14,
   "outputs": [
    {
     "data": {
      "text/plain": "0    10\n1     4\n2     4\ndtype: int64"
     },
     "execution_count": 14,
     "metadata": {},
     "output_type": "execute_result"
    }
   ],
   "source": [
    "series.head(3)"
   ],
   "metadata": {
    "collapsed": false,
    "ExecuteTime": {
     "end_time": "2023-08-12T16:52:35.796557Z",
     "start_time": "2023-08-12T16:52:35.792224Z"
    }
   },
   "id": "c0419bfb6c16e0f2"
  },
  {
   "cell_type": "code",
   "execution_count": 15,
   "outputs": [
    {
     "data": {
      "text/plain": "2     4\n3     4\n4    44\ndtype: int64"
     },
     "execution_count": 15,
     "metadata": {},
     "output_type": "execute_result"
    }
   ],
   "source": [
    "series.tail(3)"
   ],
   "metadata": {
    "collapsed": false,
    "ExecuteTime": {
     "end_time": "2023-08-12T16:52:48.005954Z",
     "start_time": "2023-08-12T16:52:47.988449Z"
    }
   },
   "id": "bff9107026b82b44"
  },
  {
   "cell_type": "code",
   "execution_count": 16,
   "outputs": [],
   "source": [
    "##index name"
   ],
   "metadata": {
    "collapsed": false,
    "ExecuteTime": {
     "end_time": "2023-08-12T16:53:00.294483Z",
     "start_time": "2023-08-12T16:53:00.288168Z"
    }
   },
   "id": "579231d9b28adc73"
  },
  {
   "cell_type": "code",
   "execution_count": 17,
   "outputs": [
    {
     "data": {
      "text/plain": "0    11\n1    22\n2    33\n3    44\n4    55\n5    66\ndtype: int64"
     },
     "execution_count": 17,
     "metadata": {},
     "output_type": "execute_result"
    }
   ],
   "source": [
    "pd.Series([11,22,33,44,55,66])"
   ],
   "metadata": {
    "collapsed": false,
    "ExecuteTime": {
     "end_time": "2023-08-12T16:53:15.863919Z",
     "start_time": "2023-08-12T16:53:15.858469Z"
    }
   },
   "id": "8bfa7a18393b332e"
  },
  {
   "cell_type": "code",
   "execution_count": 19,
   "outputs": [
    {
     "data": {
      "text/plain": "1    11\n3    22\n4    33\n5    44\n7    55\n8    66\ndtype: int64"
     },
     "execution_count": 19,
     "metadata": {},
     "output_type": "execute_result"
    }
   ],
   "source": [
    "pd.Series([11,22,33,44,55,66],index=[1,3,4,5,7,8])"
   ],
   "metadata": {
    "collapsed": false,
    "ExecuteTime": {
     "end_time": "2023-08-12T16:53:56.918203Z",
     "start_time": "2023-08-12T16:53:56.913939Z"
    }
   },
   "id": "2ef714e7ef158233"
  },
  {
   "cell_type": "code",
   "execution_count": 21,
   "outputs": [],
   "source": [
    "x=pd.Series([11,22,33,44,55,66],index=[\"a\",\"b\",\"c\",\"d\",\"f\",\"g\"])"
   ],
   "metadata": {
    "collapsed": false,
    "ExecuteTime": {
     "end_time": "2023-08-12T16:54:34.699031Z",
     "start_time": "2023-08-12T16:54:34.693639Z"
    }
   },
   "id": "98f06fc7dcba2b08"
  },
  {
   "cell_type": "code",
   "execution_count": 22,
   "outputs": [
    {
     "data": {
      "text/plain": "a    11\nb    22\nc    33\ndtype: int64"
     },
     "execution_count": 22,
     "metadata": {},
     "output_type": "execute_result"
    }
   ],
   "source": [
    "x[\"a\":\"c\"]"
   ],
   "metadata": {
    "collapsed": false,
    "ExecuteTime": {
     "end_time": "2023-08-12T16:54:43.261999Z",
     "start_time": "2023-08-12T16:54:43.248610Z"
    }
   },
   "id": "6b6c8916f6de75b2"
  },
  {
   "cell_type": "code",
   "execution_count": 23,
   "outputs": [],
   "source": [
    "#create list from dictionary"
   ],
   "metadata": {
    "collapsed": false,
    "ExecuteTime": {
     "end_time": "2023-08-12T16:55:01.906651Z",
     "start_time": "2023-08-12T16:55:01.895446Z"
    }
   },
   "id": "e33f5146dc8151d8"
  },
  {
   "cell_type": "code",
   "execution_count": 24,
   "outputs": [],
   "source": [
    "dictionary = pd.Series({\"reg\":10,\"log\":11,\"cart\":12})"
   ],
   "metadata": {
    "collapsed": false,
    "ExecuteTime": {
     "end_time": "2023-08-12T16:55:30.003879Z",
     "start_time": "2023-08-12T16:55:29.995662Z"
    }
   },
   "id": "cab48f7113bd5c5"
  },
  {
   "cell_type": "code",
   "execution_count": 25,
   "outputs": [
    {
     "data": {
      "text/plain": "reg     10\nlog     11\ncart    12\ndtype: int64"
     },
     "execution_count": 25,
     "metadata": {},
     "output_type": "execute_result"
    }
   ],
   "source": [
    "dictionary"
   ],
   "metadata": {
    "collapsed": false,
    "ExecuteTime": {
     "end_time": "2023-08-12T16:55:31.838786Z",
     "start_time": "2023-08-12T16:55:31.833857Z"
    }
   },
   "id": "f6e78d15707934f"
  },
  {
   "cell_type": "code",
   "execution_count": 26,
   "outputs": [
    {
     "data": {
      "text/plain": "reg    10\nlog    11\ndtype: int64"
     },
     "execution_count": 26,
     "metadata": {},
     "output_type": "execute_result"
    }
   ],
   "source": [
    "dictionary[\"reg\":\"log\"]"
   ],
   "metadata": {
    "collapsed": false,
    "ExecuteTime": {
     "end_time": "2023-08-12T16:56:00.220425Z",
     "start_time": "2023-08-12T16:56:00.213829Z"
    }
   },
   "id": "ac084a08093fd408"
  },
  {
   "cell_type": "code",
   "execution_count": 27,
   "outputs": [
    {
     "data": {
      "text/plain": "reg     10\nlog     11\ncart    12\na       11\nb       22\nc       33\nd       44\nf       55\ng       66\ndtype: int64"
     },
     "execution_count": 27,
     "metadata": {},
     "output_type": "execute_result"
    }
   ],
   "source": [
    "pd.concat([dictionary,x])"
   ],
   "metadata": {
    "collapsed": false,
    "ExecuteTime": {
     "end_time": "2023-08-12T16:56:32.031932Z",
     "start_time": "2023-08-12T16:56:32.020942Z"
    }
   },
   "id": "84766ecb5bb1819a"
  },
  {
   "cell_type": "code",
   "execution_count": null,
   "outputs": [],
   "source": [],
   "metadata": {
    "collapsed": false
   },
   "id": "e9994559536baea7"
  }
 ],
 "metadata": {
  "kernelspec": {
   "display_name": "Python 3 (ipykernel)",
   "language": "python",
   "name": "python3"
  },
  "language_info": {
   "codemirror_mode": {
    "name": "ipython",
    "version": 3
   },
   "file_extension": ".py",
   "mimetype": "text/x-python",
   "name": "python",
   "nbconvert_exporter": "python",
   "pygments_lexer": "ipython3",
   "version": "3.11.4"
  }
 },
 "nbformat": 4,
 "nbformat_minor": 5
}
