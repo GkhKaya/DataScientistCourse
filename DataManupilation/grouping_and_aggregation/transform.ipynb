{
 "cells": [
  {
   "cell_type": "code",
   "execution_count": 2,
   "id": "initial_id",
   "metadata": {
    "collapsed": true,
    "ExecuteTime": {
     "end_time": "2023-08-18T20:39:04.523482Z",
     "start_time": "2023-08-18T20:39:04.517292Z"
    }
   },
   "outputs": [
    {
     "data": {
      "text/plain": "  groups  variable1  variable2\n0      A         10        100\n1      B         22        200\n2      C         35        310\n3      A         49        460\n4      B         51        587\n5      C         66       6240",
      "text/html": "<div>\n<style scoped>\n    .dataframe tbody tr th:only-of-type {\n        vertical-align: middle;\n    }\n\n    .dataframe tbody tr th {\n        vertical-align: top;\n    }\n\n    .dataframe thead th {\n        text-align: right;\n    }\n</style>\n<table border=\"1\" class=\"dataframe\">\n  <thead>\n    <tr style=\"text-align: right;\">\n      <th></th>\n      <th>groups</th>\n      <th>variable1</th>\n      <th>variable2</th>\n    </tr>\n  </thead>\n  <tbody>\n    <tr>\n      <th>0</th>\n      <td>A</td>\n      <td>10</td>\n      <td>100</td>\n    </tr>\n    <tr>\n      <th>1</th>\n      <td>B</td>\n      <td>22</td>\n      <td>200</td>\n    </tr>\n    <tr>\n      <th>2</th>\n      <td>C</td>\n      <td>35</td>\n      <td>310</td>\n    </tr>\n    <tr>\n      <th>3</th>\n      <td>A</td>\n      <td>49</td>\n      <td>460</td>\n    </tr>\n    <tr>\n      <th>4</th>\n      <td>B</td>\n      <td>51</td>\n      <td>587</td>\n    </tr>\n    <tr>\n      <th>5</th>\n      <td>C</td>\n      <td>66</td>\n      <td>6240</td>\n    </tr>\n  </tbody>\n</table>\n</div>"
     },
     "execution_count": 2,
     "metadata": {},
     "output_type": "execute_result"
    }
   ],
   "source": [
    "import numpy as np\n",
    "import pandas as pd\n",
    "df = pd.DataFrame({\"groups\":[\"A\",\"B\",\"C\",\"A\",\"B\",\"C\"],\"variable1\":[10,22,35,49,51,66],\"variable2\":[100,200,310,460,587,6240]},columns=[\"groups\",\"variable1\",\"variable2\"])\n",
    "\n",
    "df"
   ]
  },
  {
   "cell_type": "code",
   "execution_count": 3,
   "outputs": [
    {
     "data": {
      "text/plain": "0     90\n1    198\n2    315\n3    441\n4    459\n5    594\nName: variable1, dtype: int64"
     },
     "execution_count": 3,
     "metadata": {},
     "output_type": "execute_result"
    }
   ],
   "source": [
    "df[\"variable1\"]*9"
   ],
   "metadata": {
    "collapsed": false,
    "ExecuteTime": {
     "end_time": "2023-08-18T20:39:13.659404Z",
     "start_time": "2023-08-18T20:39:13.651584Z"
    }
   },
   "id": "e706fdca0daff110"
  },
  {
   "cell_type": "code",
   "execution_count": 11,
   "outputs": [
    {
     "data": {
      "text/plain": "   variable1  variable2\n0  -1.400656  -0.502857\n1  -0.817724  -0.461509\n2  -0.186214  -0.416026\n3   0.493873  -0.354005\n4   0.591028  -0.301493\n5   1.319693   2.035890",
      "text/html": "<div>\n<style scoped>\n    .dataframe tbody tr th:only-of-type {\n        vertical-align: middle;\n    }\n\n    .dataframe tbody tr th {\n        vertical-align: top;\n    }\n\n    .dataframe thead th {\n        text-align: right;\n    }\n</style>\n<table border=\"1\" class=\"dataframe\">\n  <thead>\n    <tr style=\"text-align: right;\">\n      <th></th>\n      <th>variable1</th>\n      <th>variable2</th>\n    </tr>\n  </thead>\n  <tbody>\n    <tr>\n      <th>0</th>\n      <td>-1.400656</td>\n      <td>-0.502857</td>\n    </tr>\n    <tr>\n      <th>1</th>\n      <td>-0.817724</td>\n      <td>-0.461509</td>\n    </tr>\n    <tr>\n      <th>2</th>\n      <td>-0.186214</td>\n      <td>-0.416026</td>\n    </tr>\n    <tr>\n      <th>3</th>\n      <td>0.493873</td>\n      <td>-0.354005</td>\n    </tr>\n    <tr>\n      <th>4</th>\n      <td>0.591028</td>\n      <td>-0.301493</td>\n    </tr>\n    <tr>\n      <th>5</th>\n      <td>1.319693</td>\n      <td>2.035890</td>\n    </tr>\n  </tbody>\n</table>\n</div>"
     },
     "execution_count": 11,
     "metadata": {},
     "output_type": "execute_result"
    }
   ],
   "source": [
    "df_a = df.iloc[:,1:3]\n",
    "df_a.transform(lambda x: (x-x.mean())/x.std()) "
   ],
   "metadata": {
    "collapsed": false,
    "ExecuteTime": {
     "end_time": "2023-08-18T20:46:24.228650Z",
     "start_time": "2023-08-18T20:46:24.222871Z"
    }
   },
   "id": "5fdc2c22b369a185"
  },
  {
   "cell_type": "code",
   "execution_count": null,
   "outputs": [],
   "source": [],
   "metadata": {
    "collapsed": false
   },
   "id": "7a726d72e2eca8f5"
  },
  {
   "cell_type": "code",
   "execution_count": null,
   "outputs": [],
   "source": [],
   "metadata": {
    "collapsed": false
   },
   "id": "96c02fdb0ec7add9"
  },
  {
   "cell_type": "markdown",
   "source": [],
   "metadata": {
    "collapsed": false
   },
   "id": "aea09230c186a8c8"
  },
  {
   "cell_type": "code",
   "execution_count": null,
   "outputs": [],
   "source": [],
   "metadata": {
    "collapsed": false
   },
   "id": "9a3c05efdefca1a4"
  }
 ],
 "metadata": {
  "kernelspec": {
   "display_name": "Python 3",
   "language": "python",
   "name": "python3"
  },
  "language_info": {
   "codemirror_mode": {
    "name": "ipython",
    "version": 2
   },
   "file_extension": ".py",
   "mimetype": "text/x-python",
   "name": "python",
   "nbconvert_exporter": "python",
   "pygments_lexer": "ipython2",
   "version": "2.7.6"
  }
 },
 "nbformat": 4,
 "nbformat_minor": 5
}
