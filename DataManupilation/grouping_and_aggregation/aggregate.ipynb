{
 "cells": [
  {
   "cell_type": "code",
   "execution_count": 5,
   "id": "initial_id",
   "metadata": {
    "collapsed": true,
    "ExecuteTime": {
     "end_time": "2023-08-13T16:56:56.167467Z",
     "start_time": "2023-08-13T16:56:56.160696Z"
    }
   },
   "outputs": [
    {
     "data": {
      "text/plain": "  groups  variable1  variable2\n0      A         10        100\n1      B         20        200\n2      C         30        300\n3      A         40        400\n4      B         50        500\n5      C         60        600",
      "text/html": "<div>\n<style scoped>\n    .dataframe tbody tr th:only-of-type {\n        vertical-align: middle;\n    }\n\n    .dataframe tbody tr th {\n        vertical-align: top;\n    }\n\n    .dataframe thead th {\n        text-align: right;\n    }\n</style>\n<table border=\"1\" class=\"dataframe\">\n  <thead>\n    <tr style=\"text-align: right;\">\n      <th></th>\n      <th>groups</th>\n      <th>variable1</th>\n      <th>variable2</th>\n    </tr>\n  </thead>\n  <tbody>\n    <tr>\n      <th>0</th>\n      <td>A</td>\n      <td>10</td>\n      <td>100</td>\n    </tr>\n    <tr>\n      <th>1</th>\n      <td>B</td>\n      <td>20</td>\n      <td>200</td>\n    </tr>\n    <tr>\n      <th>2</th>\n      <td>C</td>\n      <td>30</td>\n      <td>300</td>\n    </tr>\n    <tr>\n      <th>3</th>\n      <td>A</td>\n      <td>40</td>\n      <td>400</td>\n    </tr>\n    <tr>\n      <th>4</th>\n      <td>B</td>\n      <td>50</td>\n      <td>500</td>\n    </tr>\n    <tr>\n      <th>5</th>\n      <td>C</td>\n      <td>60</td>\n      <td>600</td>\n    </tr>\n  </tbody>\n</table>\n</div>"
     },
     "execution_count": 5,
     "metadata": {},
     "output_type": "execute_result"
    }
   ],
   "source": [
    "import numpy as np\n",
    "import pandas as pd\n",
    "df = pd.DataFrame({\"groups\":[\"A\",\"B\",\"C\",\"A\",\"B\",\"C\"],\"variable1\":[10,20,30,40,50,60],\"variable2\":[100,200,300,400,500,600]},columns=[\"groups\",\"variable1\",\"variable2\"])\n",
    "\n",
    "df"
   ]
  },
  {
   "cell_type": "code",
   "execution_count": 3,
   "outputs": [
    {
     "data": {
      "text/plain": "        variable1  variable2\ngroups                      \nA            25.0      250.0\nB            35.0      350.0\nC            45.0      450.0",
      "text/html": "<div>\n<style scoped>\n    .dataframe tbody tr th:only-of-type {\n        vertical-align: middle;\n    }\n\n    .dataframe tbody tr th {\n        vertical-align: top;\n    }\n\n    .dataframe thead th {\n        text-align: right;\n    }\n</style>\n<table border=\"1\" class=\"dataframe\">\n  <thead>\n    <tr style=\"text-align: right;\">\n      <th></th>\n      <th>variable1</th>\n      <th>variable2</th>\n    </tr>\n    <tr>\n      <th>groups</th>\n      <th></th>\n      <th></th>\n    </tr>\n  </thead>\n  <tbody>\n    <tr>\n      <th>A</th>\n      <td>25.0</td>\n      <td>250.0</td>\n    </tr>\n    <tr>\n      <th>B</th>\n      <td>35.0</td>\n      <td>350.0</td>\n    </tr>\n    <tr>\n      <th>C</th>\n      <td>45.0</td>\n      <td>450.0</td>\n    </tr>\n  </tbody>\n</table>\n</div>"
     },
     "execution_count": 3,
     "metadata": {},
     "output_type": "execute_result"
    }
   ],
   "source": [
    "df.groupby(\"groups\").mean()"
   ],
   "metadata": {
    "collapsed": false,
    "ExecuteTime": {
     "end_time": "2023-08-13T16:55:50.006076Z",
     "start_time": "2023-08-13T16:55:50.001454Z"
    }
   },
   "id": "3c869d7429298b4e"
  },
  {
   "cell_type": "code",
   "execution_count": 8,
   "outputs": [
    {
     "ename": "TypeError",
     "evalue": "median() missing 1 required positional argument: 'a'",
     "output_type": "error",
     "traceback": [
      "\u001B[0;31m---------------------------------------------------------------------------\u001B[0m",
      "\u001B[0;31mTypeError\u001B[0m                                 Traceback (most recent call last)",
      "Cell \u001B[0;32mIn[8], line 1\u001B[0m\n\u001B[0;32m----> 1\u001B[0m df\u001B[38;5;241m.\u001B[39mgroupby(\u001B[38;5;124m\"\u001B[39m\u001B[38;5;124mgroups\u001B[39m\u001B[38;5;124m\"\u001B[39m)\u001B[38;5;241m.\u001B[39maggregate([\u001B[38;5;124m\"\u001B[39m\u001B[38;5;124mmin\u001B[39m\u001B[38;5;124m\"\u001B[39m,np\u001B[38;5;241m.\u001B[39mmedian(),\u001B[38;5;28mmax\u001B[39m])\n",
      "\u001B[0;31mTypeError\u001B[0m: median() missing 1 required positional argument: 'a'"
     ]
    }
   ],
   "source": [
    "df.groupby(\"groups\").aggregate([\"min\",np.median(),max])"
   ],
   "metadata": {
    "collapsed": false,
    "ExecuteTime": {
     "end_time": "2023-08-13T16:57:18.932819Z",
     "start_time": "2023-08-13T16:57:18.929429Z"
    }
   },
   "id": "a1313efefe36cb3d"
  },
  {
   "cell_type": "code",
   "execution_count": null,
   "outputs": [],
   "source": [],
   "metadata": {
    "collapsed": false
   },
   "id": "ccea19ab72b097b2"
  }
 ],
 "metadata": {
  "kernelspec": {
   "display_name": "Python 3",
   "language": "python",
   "name": "python3"
  },
  "language_info": {
   "codemirror_mode": {
    "name": "ipython",
    "version": 2
   },
   "file_extension": ".py",
   "mimetype": "text/x-python",
   "name": "python",
   "nbconvert_exporter": "python",
   "pygments_lexer": "ipython2",
   "version": "2.7.6"
  }
 },
 "nbformat": 4,
 "nbformat_minor": 5
}
