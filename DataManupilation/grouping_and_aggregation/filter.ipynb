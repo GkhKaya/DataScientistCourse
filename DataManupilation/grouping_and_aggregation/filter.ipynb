{
 "cells": [
  {
   "cell_type": "code",
   "execution_count": 1,
   "id": "initial_id",
   "metadata": {
    "collapsed": true,
    "ExecuteTime": {
     "end_time": "2023-08-18T20:34:39.080721Z",
     "start_time": "2023-08-18T20:34:39.070707Z"
    }
   },
   "outputs": [
    {
     "data": {
      "text/plain": "  groups  variable1  variable2\n0      A         10        100\n1      B         20        200\n2      C         30        300\n3      A         40        400\n4      B         50        500\n5      C         60        600",
      "text/html": "<div>\n<style scoped>\n    .dataframe tbody tr th:only-of-type {\n        vertical-align: middle;\n    }\n\n    .dataframe tbody tr th {\n        vertical-align: top;\n    }\n\n    .dataframe thead th {\n        text-align: right;\n    }\n</style>\n<table border=\"1\" class=\"dataframe\">\n  <thead>\n    <tr style=\"text-align: right;\">\n      <th></th>\n      <th>groups</th>\n      <th>variable1</th>\n      <th>variable2</th>\n    </tr>\n  </thead>\n  <tbody>\n    <tr>\n      <th>0</th>\n      <td>A</td>\n      <td>10</td>\n      <td>100</td>\n    </tr>\n    <tr>\n      <th>1</th>\n      <td>B</td>\n      <td>20</td>\n      <td>200</td>\n    </tr>\n    <tr>\n      <th>2</th>\n      <td>C</td>\n      <td>30</td>\n      <td>300</td>\n    </tr>\n    <tr>\n      <th>3</th>\n      <td>A</td>\n      <td>40</td>\n      <td>400</td>\n    </tr>\n    <tr>\n      <th>4</th>\n      <td>B</td>\n      <td>50</td>\n      <td>500</td>\n    </tr>\n    <tr>\n      <th>5</th>\n      <td>C</td>\n      <td>60</td>\n      <td>600</td>\n    </tr>\n  </tbody>\n</table>\n</div>"
     },
     "execution_count": 1,
     "metadata": {},
     "output_type": "execute_result"
    }
   ],
   "source": [
    "import numpy as np\n",
    "import pandas as pd\n",
    "df = pd.DataFrame({\"groups\":[\"A\",\"B\",\"C\",\"A\",\"B\",\"C\"],\"variable1\":[10,20,30,40,50,60],\"variable2\":[100,200,300,400,500,600]},columns=[\"groups\",\"variable1\",\"variable2\"])\n",
    "\n",
    "df"
   ]
  },
  {
   "cell_type": "code",
   "execution_count": 2,
   "outputs": [],
   "source": [
    "def filter_func(x):\n",
    "    return x[\"variable1\"].std() > 9 "
   ],
   "metadata": {
    "collapsed": false,
    "ExecuteTime": {
     "end_time": "2023-08-18T20:35:37.366804Z",
     "start_time": "2023-08-18T20:35:37.358151Z"
    }
   },
   "id": "f91cfdc90ab7321e"
  },
  {
   "cell_type": "code",
   "execution_count": 4,
   "outputs": [
    {
     "data": {
      "text/plain": "  groups  variable1  variable2\n0      A         10        100\n1      B         20        200\n2      C         30        300\n3      A         40        400\n4      B         50        500\n5      C         60        600",
      "text/html": "<div>\n<style scoped>\n    .dataframe tbody tr th:only-of-type {\n        vertical-align: middle;\n    }\n\n    .dataframe tbody tr th {\n        vertical-align: top;\n    }\n\n    .dataframe thead th {\n        text-align: right;\n    }\n</style>\n<table border=\"1\" class=\"dataframe\">\n  <thead>\n    <tr style=\"text-align: right;\">\n      <th></th>\n      <th>groups</th>\n      <th>variable1</th>\n      <th>variable2</th>\n    </tr>\n  </thead>\n  <tbody>\n    <tr>\n      <th>0</th>\n      <td>A</td>\n      <td>10</td>\n      <td>100</td>\n    </tr>\n    <tr>\n      <th>1</th>\n      <td>B</td>\n      <td>20</td>\n      <td>200</td>\n    </tr>\n    <tr>\n      <th>2</th>\n      <td>C</td>\n      <td>30</td>\n      <td>300</td>\n    </tr>\n    <tr>\n      <th>3</th>\n      <td>A</td>\n      <td>40</td>\n      <td>400</td>\n    </tr>\n    <tr>\n      <th>4</th>\n      <td>B</td>\n      <td>50</td>\n      <td>500</td>\n    </tr>\n    <tr>\n      <th>5</th>\n      <td>C</td>\n      <td>60</td>\n      <td>600</td>\n    </tr>\n  </tbody>\n</table>\n</div>"
     },
     "execution_count": 4,
     "metadata": {},
     "output_type": "execute_result"
    }
   ],
   "source": [
    "df.groupby(\"groups\").filter(filter_func)"
   ],
   "metadata": {
    "collapsed": false,
    "ExecuteTime": {
     "end_time": "2023-08-18T20:36:05.809254Z",
     "start_time": "2023-08-18T20:36:05.802132Z"
    }
   },
   "id": "b2f1333d3f299161"
  },
  {
   "cell_type": "code",
   "execution_count": 5,
   "outputs": [
    {
     "data": {
      "text/plain": "        variable1   variable2\ngroups                       \nA       21.213203  212.132034\nB       21.213203  212.132034\nC       21.213203  212.132034",
      "text/html": "<div>\n<style scoped>\n    .dataframe tbody tr th:only-of-type {\n        vertical-align: middle;\n    }\n\n    .dataframe tbody tr th {\n        vertical-align: top;\n    }\n\n    .dataframe thead th {\n        text-align: right;\n    }\n</style>\n<table border=\"1\" class=\"dataframe\">\n  <thead>\n    <tr style=\"text-align: right;\">\n      <th></th>\n      <th>variable1</th>\n      <th>variable2</th>\n    </tr>\n    <tr>\n      <th>groups</th>\n      <th></th>\n      <th></th>\n    </tr>\n  </thead>\n  <tbody>\n    <tr>\n      <th>A</th>\n      <td>21.213203</td>\n      <td>212.132034</td>\n    </tr>\n    <tr>\n      <th>B</th>\n      <td>21.213203</td>\n      <td>212.132034</td>\n    </tr>\n    <tr>\n      <th>C</th>\n      <td>21.213203</td>\n      <td>212.132034</td>\n    </tr>\n  </tbody>\n</table>\n</div>"
     },
     "execution_count": 5,
     "metadata": {},
     "output_type": "execute_result"
    }
   ],
   "source": [
    "df.groupby(\"groups\").std()"
   ],
   "metadata": {
    "collapsed": false,
    "ExecuteTime": {
     "end_time": "2023-08-18T20:36:40.989003Z",
     "start_time": "2023-08-18T20:36:40.976782Z"
    }
   },
   "id": "390a4e204d867219"
  },
  {
   "cell_type": "code",
   "execution_count": null,
   "outputs": [],
   "source": [],
   "metadata": {
    "collapsed": false
   },
   "id": "383abd1abffcf69d"
  }
 ],
 "metadata": {
  "kernelspec": {
   "display_name": "Python 3",
   "language": "python",
   "name": "python3"
  },
  "language_info": {
   "codemirror_mode": {
    "name": "ipython",
    "version": 2
   },
   "file_extension": ".py",
   "mimetype": "text/x-python",
   "name": "python",
   "nbconvert_exporter": "python",
   "pygments_lexer": "ipython2",
   "version": "2.7.6"
  }
 },
 "nbformat": 4,
 "nbformat_minor": 5
}
