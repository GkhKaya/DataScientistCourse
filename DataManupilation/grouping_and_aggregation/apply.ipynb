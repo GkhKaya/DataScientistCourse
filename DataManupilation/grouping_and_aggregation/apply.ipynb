{
 "cells": [
  {
   "cell_type": "code",
   "execution_count": 3,
   "id": "initial_id",
   "metadata": {
    "collapsed": true,
    "ExecuteTime": {
     "end_time": "2023-08-18T20:48:02.120515Z",
     "start_time": "2023-08-18T20:48:02.114117Z"
    }
   },
   "outputs": [
    {
     "data": {
      "text/plain": "   variable1  variable2\n0         10        100\n1         22        200\n2         35        310\n3         49        460\n4         51        587\n5         66       6240",
      "text/html": "<div>\n<style scoped>\n    .dataframe tbody tr th:only-of-type {\n        vertical-align: middle;\n    }\n\n    .dataframe tbody tr th {\n        vertical-align: top;\n    }\n\n    .dataframe thead th {\n        text-align: right;\n    }\n</style>\n<table border=\"1\" class=\"dataframe\">\n  <thead>\n    <tr style=\"text-align: right;\">\n      <th></th>\n      <th>variable1</th>\n      <th>variable2</th>\n    </tr>\n  </thead>\n  <tbody>\n    <tr>\n      <th>0</th>\n      <td>10</td>\n      <td>100</td>\n    </tr>\n    <tr>\n      <th>1</th>\n      <td>22</td>\n      <td>200</td>\n    </tr>\n    <tr>\n      <th>2</th>\n      <td>35</td>\n      <td>310</td>\n    </tr>\n    <tr>\n      <th>3</th>\n      <td>49</td>\n      <td>460</td>\n    </tr>\n    <tr>\n      <th>4</th>\n      <td>51</td>\n      <td>587</td>\n    </tr>\n    <tr>\n      <th>5</th>\n      <td>66</td>\n      <td>6240</td>\n    </tr>\n  </tbody>\n</table>\n</div>"
     },
     "execution_count": 3,
     "metadata": {},
     "output_type": "execute_result"
    }
   ],
   "source": [
    "import numpy as np\n",
    "import pandas as pd\n",
    "df = pd.DataFrame({\"variable1\":[10,22,35,49,51,66],\"variable2\":[100,200,310,460,587,6240]},columns=[\"variable1\",\"variable2\"])\n",
    "\n",
    "df"
   ]
  },
  {
   "cell_type": "code",
   "execution_count": 4,
   "outputs": [
    {
     "data": {
      "text/plain": "variable1     233\nvariable2    7897\ndtype: int64"
     },
     "execution_count": 4,
     "metadata": {},
     "output_type": "execute_result"
    }
   ],
   "source": [
    "df.apply(np.sum)"
   ],
   "metadata": {
    "collapsed": false,
    "ExecuteTime": {
     "end_time": "2023-08-18T20:49:06.405746Z",
     "start_time": "2023-08-18T20:49:06.403776Z"
    }
   },
   "id": "998402fbaf5e9410"
  },
  {
   "cell_type": "code",
   "execution_count": 8,
   "outputs": [
    {
     "data": {
      "text/plain": "   variable1   variable2\n0     212030    71862700\n1     466466   143725400\n2     742105   222774370\n3    1038947   330568420\n4    1081353   421834049\n5    1399398  4484232480",
      "text/html": "<div>\n<style scoped>\n    .dataframe tbody tr th:only-of-type {\n        vertical-align: middle;\n    }\n\n    .dataframe tbody tr th {\n        vertical-align: top;\n    }\n\n    .dataframe thead th {\n        text-align: right;\n    }\n</style>\n<table border=\"1\" class=\"dataframe\">\n  <thead>\n    <tr style=\"text-align: right;\">\n      <th></th>\n      <th>variable1</th>\n      <th>variable2</th>\n    </tr>\n  </thead>\n  <tbody>\n    <tr>\n      <th>0</th>\n      <td>212030</td>\n      <td>71862700</td>\n    </tr>\n    <tr>\n      <th>1</th>\n      <td>466466</td>\n      <td>143725400</td>\n    </tr>\n    <tr>\n      <th>2</th>\n      <td>742105</td>\n      <td>222774370</td>\n    </tr>\n    <tr>\n      <th>3</th>\n      <td>1038947</td>\n      <td>330568420</td>\n    </tr>\n    <tr>\n      <th>4</th>\n      <td>1081353</td>\n      <td>421834049</td>\n    </tr>\n    <tr>\n      <th>5</th>\n      <td>1399398</td>\n      <td>4484232480</td>\n    </tr>\n  </tbody>\n</table>\n</div>"
     },
     "execution_count": 8,
     "metadata": {},
     "output_type": "execute_result"
    }
   ],
   "source": [
    "df.apply(lambda x:(x+x*90) * np.sum(x))"
   ],
   "metadata": {
    "collapsed": false,
    "ExecuteTime": {
     "end_time": "2023-08-18T20:50:09.320229Z",
     "start_time": "2023-08-18T20:50:09.313083Z"
    }
   },
   "id": "8d3ce82110503a25"
  },
  {
   "cell_type": "code",
   "execution_count": null,
   "outputs": [],
   "source": [],
   "metadata": {
    "collapsed": false
   },
   "id": "e1a0c2a907702588"
  }
 ],
 "metadata": {
  "kernelspec": {
   "display_name": "Python 3",
   "language": "python",
   "name": "python3"
  },
  "language_info": {
   "codemirror_mode": {
    "name": "ipython",
    "version": 2
   },
   "file_extension": ".py",
   "mimetype": "text/x-python",
   "name": "python",
   "nbconvert_exporter": "python",
   "pygments_lexer": "ipython2",
   "version": "2.7.6"
  }
 },
 "nbformat": 4,
 "nbformat_minor": 5
}
