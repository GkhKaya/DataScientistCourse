{
 "cells": [
  {
   "cell_type": "code",
   "execution_count": 2,
   "id": "initial_id",
   "metadata": {
    "collapsed": true,
    "ExecuteTime": {
     "end_time": "2023-08-13T16:18:30.608094Z",
     "start_time": "2023-08-13T16:18:29.548741Z"
    }
   },
   "outputs": [],
   "source": [
    "import pandas as pd\n",
    "import seaborn as sns"
   ]
  },
  {
   "cell_type": "code",
   "execution_count": 6,
   "outputs": [
    {
     "data": {
      "text/plain": "            method  number  orbital_period   mass  distance  year\n0  Radial Velocity       1         269.300   7.10     77.40  2006\n1  Radial Velocity       1         874.774   2.21     56.95  2008\n2  Radial Velocity       1         763.000   2.60     19.84  2011\n3  Radial Velocity       1         326.030  19.40    110.62  2007\n4  Radial Velocity       1         516.220  10.50    119.47  2009",
      "text/html": "<div>\n<style scoped>\n    .dataframe tbody tr th:only-of-type {\n        vertical-align: middle;\n    }\n\n    .dataframe tbody tr th {\n        vertical-align: top;\n    }\n\n    .dataframe thead th {\n        text-align: right;\n    }\n</style>\n<table border=\"1\" class=\"dataframe\">\n  <thead>\n    <tr style=\"text-align: right;\">\n      <th></th>\n      <th>method</th>\n      <th>number</th>\n      <th>orbital_period</th>\n      <th>mass</th>\n      <th>distance</th>\n      <th>year</th>\n    </tr>\n  </thead>\n  <tbody>\n    <tr>\n      <th>0</th>\n      <td>Radial Velocity</td>\n      <td>1</td>\n      <td>269.300</td>\n      <td>7.10</td>\n      <td>77.40</td>\n      <td>2006</td>\n    </tr>\n    <tr>\n      <th>1</th>\n      <td>Radial Velocity</td>\n      <td>1</td>\n      <td>874.774</td>\n      <td>2.21</td>\n      <td>56.95</td>\n      <td>2008</td>\n    </tr>\n    <tr>\n      <th>2</th>\n      <td>Radial Velocity</td>\n      <td>1</td>\n      <td>763.000</td>\n      <td>2.60</td>\n      <td>19.84</td>\n      <td>2011</td>\n    </tr>\n    <tr>\n      <th>3</th>\n      <td>Radial Velocity</td>\n      <td>1</td>\n      <td>326.030</td>\n      <td>19.40</td>\n      <td>110.62</td>\n      <td>2007</td>\n    </tr>\n    <tr>\n      <th>4</th>\n      <td>Radial Velocity</td>\n      <td>1</td>\n      <td>516.220</td>\n      <td>10.50</td>\n      <td>119.47</td>\n      <td>2009</td>\n    </tr>\n  </tbody>\n</table>\n</div>"
     },
     "execution_count": 6,
     "metadata": {},
     "output_type": "execute_result"
    }
   ],
   "source": [
    "df = sns.load_dataset(\"planets\")\n",
    "df.head()"
   ],
   "metadata": {
    "collapsed": false,
    "ExecuteTime": {
     "end_time": "2023-08-13T16:19:39.148295Z",
     "start_time": "2023-08-13T16:19:39.139956Z"
    }
   },
   "id": "59625fdf50553a3d"
  },
  {
   "cell_type": "code",
   "execution_count": 7,
   "outputs": [
    {
     "data": {
      "text/plain": "(1035, 6)"
     },
     "execution_count": 7,
     "metadata": {},
     "output_type": "execute_result"
    }
   ],
   "source": [
    "df.shape"
   ],
   "metadata": {
    "collapsed": false,
    "ExecuteTime": {
     "end_time": "2023-08-13T16:19:45.376975Z",
     "start_time": "2023-08-13T16:19:45.368193Z"
    }
   },
   "id": "5802168bac6e574a"
  },
  {
   "cell_type": "code",
   "execution_count": 10,
   "outputs": [
    {
     "data": {
      "text/plain": "2.6381605847953216"
     },
     "execution_count": 10,
     "metadata": {},
     "output_type": "execute_result"
    }
   ],
   "source": [
    "df[\"mass\"].mean()"
   ],
   "metadata": {
    "collapsed": false,
    "ExecuteTime": {
     "end_time": "2023-08-13T16:20:27.420244Z",
     "start_time": "2023-08-13T16:20:27.411170Z"
    }
   },
   "id": "dfe00b4c11483f17"
  },
  {
   "cell_type": "code",
   "execution_count": 11,
   "outputs": [
    {
     "data": {
      "text/plain": "<bound method NDFrame._add_numeric_operations.<locals>.min of 0        7.10\n1        2.21\n2        2.60\n3       19.40\n4       10.50\n        ...  \n1030      NaN\n1031      NaN\n1032      NaN\n1033      NaN\n1034      NaN\nName: mass, Length: 1035, dtype: float64>"
     },
     "execution_count": 11,
     "metadata": {},
     "output_type": "execute_result"
    }
   ],
   "source": [
    "df[\"mass\"].min "
   ],
   "metadata": {
    "collapsed": false,
    "ExecuteTime": {
     "end_time": "2023-08-13T16:21:02.890731Z",
     "start_time": "2023-08-13T16:21:02.882551Z"
    }
   },
   "id": "dae1057e3dc5d855"
  },
  {
   "cell_type": "code",
   "execution_count": 12,
   "outputs": [
    {
     "data": {
      "text/plain": "<bound method NDFrame._add_numeric_operations.<locals>.max of 0        7.10\n1        2.21\n2        2.60\n3       19.40\n4       10.50\n        ...  \n1030      NaN\n1031      NaN\n1032      NaN\n1033      NaN\n1034      NaN\nName: mass, Length: 1035, dtype: float64>"
     },
     "execution_count": 12,
     "metadata": {},
     "output_type": "execute_result"
    }
   ],
   "source": [
    "df[\"mass\"].max"
   ],
   "metadata": {
    "collapsed": false,
    "ExecuteTime": {
     "end_time": "2023-08-13T16:21:07.332770Z",
     "start_time": "2023-08-13T16:21:07.325459Z"
    }
   },
   "id": "ac23e49d9d02ae61"
  },
  {
   "cell_type": "code",
   "execution_count": 13,
   "outputs": [
    {
     "data": {
      "text/plain": "14.58183312700122"
     },
     "execution_count": 13,
     "metadata": {},
     "output_type": "execute_result"
    }
   ],
   "source": [
    "df[\"mass\"].var()"
   ],
   "metadata": {
    "collapsed": false,
    "ExecuteTime": {
     "end_time": "2023-08-13T16:21:16.880992Z",
     "start_time": "2023-08-13T16:21:16.867912Z"
    }
   },
   "id": "ddef6125345a2900"
  },
  {
   "cell_type": "code",
   "execution_count": 15,
   "outputs": [
    {
     "data": {
      "text/plain": "                 count         mean           std          min         25%  \\\nnumber          1035.0     1.785507      1.240976     1.000000     1.00000   \norbital_period   992.0  2002.917596  26014.728304     0.090706     5.44254   \nmass             513.0     2.638161      3.818617     0.003600     0.22900   \ndistance         808.0   264.069282    733.116493     1.350000    32.56000   \nyear            1035.0  2009.070531      3.972567  1989.000000  2007.00000   \n\n                      50%       75%       max  \nnumber             1.0000     2.000       7.0  \norbital_period    39.9795   526.005  730000.0  \nmass               1.2600     3.040      25.0  \ndistance          55.2500   178.500    8500.0  \nyear            2010.0000  2012.000    2014.0  ",
      "text/html": "<div>\n<style scoped>\n    .dataframe tbody tr th:only-of-type {\n        vertical-align: middle;\n    }\n\n    .dataframe tbody tr th {\n        vertical-align: top;\n    }\n\n    .dataframe thead th {\n        text-align: right;\n    }\n</style>\n<table border=\"1\" class=\"dataframe\">\n  <thead>\n    <tr style=\"text-align: right;\">\n      <th></th>\n      <th>count</th>\n      <th>mean</th>\n      <th>std</th>\n      <th>min</th>\n      <th>25%</th>\n      <th>50%</th>\n      <th>75%</th>\n      <th>max</th>\n    </tr>\n  </thead>\n  <tbody>\n    <tr>\n      <th>number</th>\n      <td>1035.0</td>\n      <td>1.785507</td>\n      <td>1.240976</td>\n      <td>1.000000</td>\n      <td>1.00000</td>\n      <td>1.0000</td>\n      <td>2.000</td>\n      <td>7.0</td>\n    </tr>\n    <tr>\n      <th>orbital_period</th>\n      <td>992.0</td>\n      <td>2002.917596</td>\n      <td>26014.728304</td>\n      <td>0.090706</td>\n      <td>5.44254</td>\n      <td>39.9795</td>\n      <td>526.005</td>\n      <td>730000.0</td>\n    </tr>\n    <tr>\n      <th>mass</th>\n      <td>513.0</td>\n      <td>2.638161</td>\n      <td>3.818617</td>\n      <td>0.003600</td>\n      <td>0.22900</td>\n      <td>1.2600</td>\n      <td>3.040</td>\n      <td>25.0</td>\n    </tr>\n    <tr>\n      <th>distance</th>\n      <td>808.0</td>\n      <td>264.069282</td>\n      <td>733.116493</td>\n      <td>1.350000</td>\n      <td>32.56000</td>\n      <td>55.2500</td>\n      <td>178.500</td>\n      <td>8500.0</td>\n    </tr>\n    <tr>\n      <th>year</th>\n      <td>1035.0</td>\n      <td>2009.070531</td>\n      <td>3.972567</td>\n      <td>1989.000000</td>\n      <td>2007.00000</td>\n      <td>2010.0000</td>\n      <td>2012.000</td>\n      <td>2014.0</td>\n    </tr>\n  </tbody>\n</table>\n</div>"
     },
     "execution_count": 15,
     "metadata": {},
     "output_type": "execute_result"
    }
   ],
   "source": [
    "df.describe().T"
   ],
   "metadata": {
    "collapsed": false,
    "ExecuteTime": {
     "end_time": "2023-08-13T16:21:36.191475Z",
     "start_time": "2023-08-13T16:21:36.180963Z"
    }
   },
   "id": "37efc526db6716c8"
  },
  {
   "cell_type": "code",
   "execution_count": 17,
   "outputs": [
    {
     "data": {
      "text/plain": "                count         mean          std        min         25%  \\\nnumber          498.0     1.734940     1.175720     1.0000     1.00000   \norbital_period  498.0   835.778671  1469.128259     1.3283    38.27225   \nmass            498.0     2.509320     3.636274     0.0036     0.21250   \ndistance        498.0    52.068213    46.596041     1.3500    24.49750   \nyear            498.0  2007.377510     4.167284  1989.0000  2005.00000   \n\n                     50%        75%      max  \nnumber             1.000     2.0000      6.0  \norbital_period   357.000   999.6000  17337.5  \nmass               1.245     2.8675     25.0  \ndistance          39.940    59.3325    354.0  \nyear            2009.000  2011.0000   2014.0  ",
      "text/html": "<div>\n<style scoped>\n    .dataframe tbody tr th:only-of-type {\n        vertical-align: middle;\n    }\n\n    .dataframe tbody tr th {\n        vertical-align: top;\n    }\n\n    .dataframe thead th {\n        text-align: right;\n    }\n</style>\n<table border=\"1\" class=\"dataframe\">\n  <thead>\n    <tr style=\"text-align: right;\">\n      <th></th>\n      <th>count</th>\n      <th>mean</th>\n      <th>std</th>\n      <th>min</th>\n      <th>25%</th>\n      <th>50%</th>\n      <th>75%</th>\n      <th>max</th>\n    </tr>\n  </thead>\n  <tbody>\n    <tr>\n      <th>number</th>\n      <td>498.0</td>\n      <td>1.734940</td>\n      <td>1.175720</td>\n      <td>1.0000</td>\n      <td>1.00000</td>\n      <td>1.000</td>\n      <td>2.0000</td>\n      <td>6.0</td>\n    </tr>\n    <tr>\n      <th>orbital_period</th>\n      <td>498.0</td>\n      <td>835.778671</td>\n      <td>1469.128259</td>\n      <td>1.3283</td>\n      <td>38.27225</td>\n      <td>357.000</td>\n      <td>999.6000</td>\n      <td>17337.5</td>\n    </tr>\n    <tr>\n      <th>mass</th>\n      <td>498.0</td>\n      <td>2.509320</td>\n      <td>3.636274</td>\n      <td>0.0036</td>\n      <td>0.21250</td>\n      <td>1.245</td>\n      <td>2.8675</td>\n      <td>25.0</td>\n    </tr>\n    <tr>\n      <th>distance</th>\n      <td>498.0</td>\n      <td>52.068213</td>\n      <td>46.596041</td>\n      <td>1.3500</td>\n      <td>24.49750</td>\n      <td>39.940</td>\n      <td>59.3325</td>\n      <td>354.0</td>\n    </tr>\n    <tr>\n      <th>year</th>\n      <td>498.0</td>\n      <td>2007.377510</td>\n      <td>4.167284</td>\n      <td>1989.0000</td>\n      <td>2005.00000</td>\n      <td>2009.000</td>\n      <td>2011.0000</td>\n      <td>2014.0</td>\n    </tr>\n  </tbody>\n</table>\n</div>"
     },
     "execution_count": 17,
     "metadata": {},
     "output_type": "execute_result"
    }
   ],
   "source": [
    "df.dropna().describe().T\n"
   ],
   "metadata": {
    "collapsed": false,
    "ExecuteTime": {
     "end_time": "2023-08-13T16:23:10.141238Z",
     "start_time": "2023-08-13T16:23:10.126827Z"
    }
   },
   "id": "97d7d4ccc87aba1c"
  },
  {
   "cell_type": "code",
   "execution_count": 18,
   "outputs": [],
   "source": [
    "##Grouping Operations"
   ],
   "metadata": {
    "collapsed": false,
    "ExecuteTime": {
     "end_time": "2023-08-13T16:40:11.965816Z",
     "start_time": "2023-08-13T16:40:11.957829Z"
    }
   },
   "id": "16b4662ea3ab467"
  },
  {
   "cell_type": "code",
   "execution_count": 20,
   "outputs": [],
   "source": [
    "import pandas as pd\n"
   ],
   "metadata": {
    "collapsed": false,
    "ExecuteTime": {
     "end_time": "2023-08-13T16:41:47.467597Z",
     "start_time": "2023-08-13T16:41:47.465461Z"
    }
   },
   "id": "bf72535f3810e789"
  },
  {
   "cell_type": "code",
   "execution_count": 24,
   "outputs": [
    {
     "data": {
      "text/plain": "  groups  data\n0      A    10\n1      B    11\n2      C    12\n3      A    13\n4      B    14\n5      C    15",
      "text/html": "<div>\n<style scoped>\n    .dataframe tbody tr th:only-of-type {\n        vertical-align: middle;\n    }\n\n    .dataframe tbody tr th {\n        vertical-align: top;\n    }\n\n    .dataframe thead th {\n        text-align: right;\n    }\n</style>\n<table border=\"1\" class=\"dataframe\">\n  <thead>\n    <tr style=\"text-align: right;\">\n      <th></th>\n      <th>groups</th>\n      <th>data</th>\n    </tr>\n  </thead>\n  <tbody>\n    <tr>\n      <th>0</th>\n      <td>A</td>\n      <td>10</td>\n    </tr>\n    <tr>\n      <th>1</th>\n      <td>B</td>\n      <td>11</td>\n    </tr>\n    <tr>\n      <th>2</th>\n      <td>C</td>\n      <td>12</td>\n    </tr>\n    <tr>\n      <th>3</th>\n      <td>A</td>\n      <td>13</td>\n    </tr>\n    <tr>\n      <th>4</th>\n      <td>B</td>\n      <td>14</td>\n    </tr>\n    <tr>\n      <th>5</th>\n      <td>C</td>\n      <td>15</td>\n    </tr>\n  </tbody>\n</table>\n</div>"
     },
     "execution_count": 24,
     "metadata": {},
     "output_type": "execute_result"
    }
   ],
   "source": [
    "df = pd.DataFrame({\"groups\":[\"A\",\"B\",\"C\",\"A\",\"B\",\"C\"],\"data\":[10,11,12,13,14,15]},columns=[\"groups\",\"data\"])\n",
    "df"
   ],
   "metadata": {
    "collapsed": false,
    "ExecuteTime": {
     "end_time": "2023-08-13T16:42:36.911909Z",
     "start_time": "2023-08-13T16:42:36.902684Z"
    }
   },
   "id": "c8974d46dab6972b"
  },
  {
   "cell_type": "code",
   "execution_count": 25,
   "outputs": [
    {
     "data": {
      "text/plain": "<pandas.core.groupby.generic.DataFrameGroupBy object at 0x15255ff50>"
     },
     "execution_count": 25,
     "metadata": {},
     "output_type": "execute_result"
    }
   ],
   "source": [
    "df.groupby(\"groups\")"
   ],
   "metadata": {
    "collapsed": false,
    "ExecuteTime": {
     "end_time": "2023-08-13T16:44:06.689781Z",
     "start_time": "2023-08-13T16:44:06.672127Z"
    }
   },
   "id": "74520aaa78ab2a7e"
  },
  {
   "cell_type": "code",
   "execution_count": 26,
   "outputs": [
    {
     "data": {
      "text/plain": "        data\ngroups      \nA       11.5\nB       12.5\nC       13.5",
      "text/html": "<div>\n<style scoped>\n    .dataframe tbody tr th:only-of-type {\n        vertical-align: middle;\n    }\n\n    .dataframe tbody tr th {\n        vertical-align: top;\n    }\n\n    .dataframe thead th {\n        text-align: right;\n    }\n</style>\n<table border=\"1\" class=\"dataframe\">\n  <thead>\n    <tr style=\"text-align: right;\">\n      <th></th>\n      <th>data</th>\n    </tr>\n    <tr>\n      <th>groups</th>\n      <th></th>\n    </tr>\n  </thead>\n  <tbody>\n    <tr>\n      <th>A</th>\n      <td>11.5</td>\n    </tr>\n    <tr>\n      <th>B</th>\n      <td>12.5</td>\n    </tr>\n    <tr>\n      <th>C</th>\n      <td>13.5</td>\n    </tr>\n  </tbody>\n</table>\n</div>"
     },
     "execution_count": 26,
     "metadata": {},
     "output_type": "execute_result"
    }
   ],
   "source": [
    "df.groupby(\"groups\").mean()"
   ],
   "metadata": {
    "collapsed": false,
    "ExecuteTime": {
     "end_time": "2023-08-13T16:44:46.547320Z",
     "start_time": "2023-08-13T16:44:46.532265Z"
    }
   },
   "id": "46128d2698e9ef23"
  },
  {
   "cell_type": "code",
   "execution_count": 27,
   "outputs": [
    {
     "data": {
      "text/plain": "        data\ngroups      \nA         23\nB         25\nC         27",
      "text/html": "<div>\n<style scoped>\n    .dataframe tbody tr th:only-of-type {\n        vertical-align: middle;\n    }\n\n    .dataframe tbody tr th {\n        vertical-align: top;\n    }\n\n    .dataframe thead th {\n        text-align: right;\n    }\n</style>\n<table border=\"1\" class=\"dataframe\">\n  <thead>\n    <tr style=\"text-align: right;\">\n      <th></th>\n      <th>data</th>\n    </tr>\n    <tr>\n      <th>groups</th>\n      <th></th>\n    </tr>\n  </thead>\n  <tbody>\n    <tr>\n      <th>A</th>\n      <td>23</td>\n    </tr>\n    <tr>\n      <th>B</th>\n      <td>25</td>\n    </tr>\n    <tr>\n      <th>C</th>\n      <td>27</td>\n    </tr>\n  </tbody>\n</table>\n</div>"
     },
     "execution_count": 27,
     "metadata": {},
     "output_type": "execute_result"
    }
   ],
   "source": [
    "df.groupby(\"groups\").sum()"
   ],
   "metadata": {
    "collapsed": false,
    "ExecuteTime": {
     "end_time": "2023-08-13T16:45:28.886339Z",
     "start_time": "2023-08-13T16:45:28.876753Z"
    }
   },
   "id": "ca6cb5cfddc5c58e"
  },
  {
   "cell_type": "code",
   "execution_count": 28,
   "outputs": [
    {
     "data": {
      "text/plain": "            method  number  orbital_period   mass  distance  year\n0  Radial Velocity       1         269.300   7.10     77.40  2006\n1  Radial Velocity       1         874.774   2.21     56.95  2008\n2  Radial Velocity       1         763.000   2.60     19.84  2011\n3  Radial Velocity       1         326.030  19.40    110.62  2007\n4  Radial Velocity       1         516.220  10.50    119.47  2009",
      "text/html": "<div>\n<style scoped>\n    .dataframe tbody tr th:only-of-type {\n        vertical-align: middle;\n    }\n\n    .dataframe tbody tr th {\n        vertical-align: top;\n    }\n\n    .dataframe thead th {\n        text-align: right;\n    }\n</style>\n<table border=\"1\" class=\"dataframe\">\n  <thead>\n    <tr style=\"text-align: right;\">\n      <th></th>\n      <th>method</th>\n      <th>number</th>\n      <th>orbital_period</th>\n      <th>mass</th>\n      <th>distance</th>\n      <th>year</th>\n    </tr>\n  </thead>\n  <tbody>\n    <tr>\n      <th>0</th>\n      <td>Radial Velocity</td>\n      <td>1</td>\n      <td>269.300</td>\n      <td>7.10</td>\n      <td>77.40</td>\n      <td>2006</td>\n    </tr>\n    <tr>\n      <th>1</th>\n      <td>Radial Velocity</td>\n      <td>1</td>\n      <td>874.774</td>\n      <td>2.21</td>\n      <td>56.95</td>\n      <td>2008</td>\n    </tr>\n    <tr>\n      <th>2</th>\n      <td>Radial Velocity</td>\n      <td>1</td>\n      <td>763.000</td>\n      <td>2.60</td>\n      <td>19.84</td>\n      <td>2011</td>\n    </tr>\n    <tr>\n      <th>3</th>\n      <td>Radial Velocity</td>\n      <td>1</td>\n      <td>326.030</td>\n      <td>19.40</td>\n      <td>110.62</td>\n      <td>2007</td>\n    </tr>\n    <tr>\n      <th>4</th>\n      <td>Radial Velocity</td>\n      <td>1</td>\n      <td>516.220</td>\n      <td>10.50</td>\n      <td>119.47</td>\n      <td>2009</td>\n    </tr>\n  </tbody>\n</table>\n</div>"
     },
     "execution_count": 28,
     "metadata": {},
     "output_type": "execute_result"
    }
   ],
   "source": [
    "df = sns.load_dataset(\"planets\")\n",
    "df.head()"
   ],
   "metadata": {
    "collapsed": false,
    "ExecuteTime": {
     "end_time": "2023-08-13T16:45:54.023864Z",
     "start_time": "2023-08-13T16:45:54.004407Z"
    }
   },
   "id": "caa10bf941c6b846"
  },
  {
   "cell_type": "code",
   "execution_count": 29,
   "outputs": [
    {
     "data": {
      "text/plain": "<pandas.core.groupby.generic.DataFrameGroupBy object at 0x1671e8f50>"
     },
     "execution_count": 29,
     "metadata": {},
     "output_type": "execute_result"
    }
   ],
   "source": [
    "df.groupby(\"method\")"
   ],
   "metadata": {
    "collapsed": false,
    "ExecuteTime": {
     "end_time": "2023-08-13T16:46:13.010583Z",
     "start_time": "2023-08-13T16:46:13.001823Z"
    }
   },
   "id": "44cfc3cef7c4df33"
  },
  {
   "cell_type": "code",
   "execution_count": 31,
   "outputs": [
    {
     "data": {
      "text/plain": "<pandas.core.groupby.generic.SeriesGroupBy object at 0x1676db950>"
     },
     "execution_count": 31,
     "metadata": {},
     "output_type": "execute_result"
    }
   ],
   "source": [
    "df.groupby(\"method\")[\"orbital_period\"]\n"
   ],
   "metadata": {
    "collapsed": false,
    "ExecuteTime": {
     "end_time": "2023-08-13T16:46:38.753826Z",
     "start_time": "2023-08-13T16:46:38.746419Z"
    }
   },
   "id": "4d5fa5762ec343b6"
  },
  {
   "cell_type": "markdown",
   "source": [],
   "metadata": {
    "collapsed": false
   },
   "id": "e1182bcdffcf812a"
  },
  {
   "cell_type": "code",
   "execution_count": 32,
   "outputs": [
    {
     "data": {
      "text/plain": "method\nAstrometry                          631.180000\nEclipse Timing Variations          4751.644444\nImaging                          118247.737500\nMicrolensing                       3153.571429\nOrbital Brightness Modulation         0.709307\nPulsar Timing                      7343.021201\nPulsation Timing Variations        1170.000000\nRadial Velocity                     823.354680\nTransit                              21.102073\nTransit Timing Variations            79.783500\nName: orbital_period, dtype: float64"
     },
     "execution_count": 32,
     "metadata": {},
     "output_type": "execute_result"
    }
   ],
   "source": [
    "df.groupby(\"method\")[\"orbital_period\"].mean()"
   ],
   "metadata": {
    "collapsed": false,
    "ExecuteTime": {
     "end_time": "2023-08-13T16:49:18.268484Z",
     "start_time": "2023-08-13T16:49:18.251545Z"
    }
   },
   "id": "dc3aa02b5b6eddd7"
  },
  {
   "cell_type": "code",
   "execution_count": 33,
   "outputs": [
    {
     "data": {
      "text/plain": "                               count           mean            std  \\\nmethod                                                               \nAstrometry                       2.0     631.180000     544.217663   \nEclipse Timing Variations        9.0    4751.644444    2499.130945   \nImaging                         12.0  118247.737500  213978.177277   \nMicrolensing                     7.0    3153.571429    1113.166333   \nOrbital Brightness Modulation    3.0       0.709307       0.725493   \nPulsar Timing                    5.0    7343.021201   16313.265573   \nPulsation Timing Variations      1.0    1170.000000            NaN   \nRadial Velocity                553.0     823.354680    1454.926210   \nTransit                        397.0      21.102073      46.185893   \nTransit Timing Variations        3.0      79.783500      71.599884   \n\n                                       min          25%           50%  \\\nmethod                                                                  \nAstrometry                      246.360000   438.770000    631.180000   \nEclipse Timing Variations      1916.250000  2900.000000   4343.500000   \nImaging                        4639.150000  8343.900000  27500.000000   \nMicrolensing                   1825.000000  2375.000000   3300.000000   \nOrbital Brightness Modulation     0.240104     0.291496      0.342887   \nPulsar Timing                     0.090706    25.262000     66.541900   \nPulsation Timing Variations    1170.000000  1170.000000   1170.000000   \nRadial Velocity                   0.736540    38.021000    360.200000   \nTransit                           0.355000     3.160630      5.714932   \nTransit Timing Variations        22.339500    39.675250     57.011000   \n\n                                        75%            max  \nmethod                                                      \nAstrometry                       823.590000    1016.000000  \nEclipse Timing Variations       5767.000000   10220.000000  \nImaging                        94250.000000  730000.000000  \nMicrolensing                    3550.000000    5100.000000  \nOrbital Brightness Modulation      0.943908       1.544929  \nPulsar Timing                     98.211400   36525.000000  \nPulsation Timing Variations     1170.000000    1170.000000  \nRadial Velocity                  982.000000   17337.500000  \nTransit                           16.145700     331.600590  \nTransit Timing Variations        108.505500     160.000000  ",
      "text/html": "<div>\n<style scoped>\n    .dataframe tbody tr th:only-of-type {\n        vertical-align: middle;\n    }\n\n    .dataframe tbody tr th {\n        vertical-align: top;\n    }\n\n    .dataframe thead th {\n        text-align: right;\n    }\n</style>\n<table border=\"1\" class=\"dataframe\">\n  <thead>\n    <tr style=\"text-align: right;\">\n      <th></th>\n      <th>count</th>\n      <th>mean</th>\n      <th>std</th>\n      <th>min</th>\n      <th>25%</th>\n      <th>50%</th>\n      <th>75%</th>\n      <th>max</th>\n    </tr>\n    <tr>\n      <th>method</th>\n      <th></th>\n      <th></th>\n      <th></th>\n      <th></th>\n      <th></th>\n      <th></th>\n      <th></th>\n      <th></th>\n    </tr>\n  </thead>\n  <tbody>\n    <tr>\n      <th>Astrometry</th>\n      <td>2.0</td>\n      <td>631.180000</td>\n      <td>544.217663</td>\n      <td>246.360000</td>\n      <td>438.770000</td>\n      <td>631.180000</td>\n      <td>823.590000</td>\n      <td>1016.000000</td>\n    </tr>\n    <tr>\n      <th>Eclipse Timing Variations</th>\n      <td>9.0</td>\n      <td>4751.644444</td>\n      <td>2499.130945</td>\n      <td>1916.250000</td>\n      <td>2900.000000</td>\n      <td>4343.500000</td>\n      <td>5767.000000</td>\n      <td>10220.000000</td>\n    </tr>\n    <tr>\n      <th>Imaging</th>\n      <td>12.0</td>\n      <td>118247.737500</td>\n      <td>213978.177277</td>\n      <td>4639.150000</td>\n      <td>8343.900000</td>\n      <td>27500.000000</td>\n      <td>94250.000000</td>\n      <td>730000.000000</td>\n    </tr>\n    <tr>\n      <th>Microlensing</th>\n      <td>7.0</td>\n      <td>3153.571429</td>\n      <td>1113.166333</td>\n      <td>1825.000000</td>\n      <td>2375.000000</td>\n      <td>3300.000000</td>\n      <td>3550.000000</td>\n      <td>5100.000000</td>\n    </tr>\n    <tr>\n      <th>Orbital Brightness Modulation</th>\n      <td>3.0</td>\n      <td>0.709307</td>\n      <td>0.725493</td>\n      <td>0.240104</td>\n      <td>0.291496</td>\n      <td>0.342887</td>\n      <td>0.943908</td>\n      <td>1.544929</td>\n    </tr>\n    <tr>\n      <th>Pulsar Timing</th>\n      <td>5.0</td>\n      <td>7343.021201</td>\n      <td>16313.265573</td>\n      <td>0.090706</td>\n      <td>25.262000</td>\n      <td>66.541900</td>\n      <td>98.211400</td>\n      <td>36525.000000</td>\n    </tr>\n    <tr>\n      <th>Pulsation Timing Variations</th>\n      <td>1.0</td>\n      <td>1170.000000</td>\n      <td>NaN</td>\n      <td>1170.000000</td>\n      <td>1170.000000</td>\n      <td>1170.000000</td>\n      <td>1170.000000</td>\n      <td>1170.000000</td>\n    </tr>\n    <tr>\n      <th>Radial Velocity</th>\n      <td>553.0</td>\n      <td>823.354680</td>\n      <td>1454.926210</td>\n      <td>0.736540</td>\n      <td>38.021000</td>\n      <td>360.200000</td>\n      <td>982.000000</td>\n      <td>17337.500000</td>\n    </tr>\n    <tr>\n      <th>Transit</th>\n      <td>397.0</td>\n      <td>21.102073</td>\n      <td>46.185893</td>\n      <td>0.355000</td>\n      <td>3.160630</td>\n      <td>5.714932</td>\n      <td>16.145700</td>\n      <td>331.600590</td>\n    </tr>\n    <tr>\n      <th>Transit Timing Variations</th>\n      <td>3.0</td>\n      <td>79.783500</td>\n      <td>71.599884</td>\n      <td>22.339500</td>\n      <td>39.675250</td>\n      <td>57.011000</td>\n      <td>108.505500</td>\n      <td>160.000000</td>\n    </tr>\n  </tbody>\n</table>\n</div>"
     },
     "execution_count": 33,
     "metadata": {},
     "output_type": "execute_result"
    }
   ],
   "source": [
    "df.groupby(\"method\")[\"orbital_period\"].describe()"
   ],
   "metadata": {
    "collapsed": false,
    "ExecuteTime": {
     "end_time": "2023-08-13T16:49:54.475066Z",
     "start_time": "2023-08-13T16:49:54.450419Z"
    }
   },
   "id": "5900fd8f8a571b4f"
  },
  {
   "cell_type": "code",
   "execution_count": null,
   "outputs": [],
   "source": [],
   "metadata": {
    "collapsed": false
   },
   "id": "b35229f080b4ecdf"
  }
 ],
 "metadata": {
  "kernelspec": {
   "display_name": "Python 3",
   "language": "python",
   "name": "python3"
  },
  "language_info": {
   "codemirror_mode": {
    "name": "ipython",
    "version": 2
   },
   "file_extension": ".py",
   "mimetype": "text/x-python",
   "name": "python",
   "nbconvert_exporter": "python",
   "pygments_lexer": "ipython2",
   "version": "2.7.6"
  }
 },
 "nbformat": 4,
 "nbformat_minor": 5
}
