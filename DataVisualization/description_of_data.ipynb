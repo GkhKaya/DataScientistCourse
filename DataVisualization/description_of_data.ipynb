{
 "cells": [
  {
   "cell_type": "code",
   "execution_count": 1,
   "id": "initial_id",
   "metadata": {
    "collapsed": true,
    "ExecuteTime": {
     "end_time": "2023-10-13T13:31:59.219212Z",
     "start_time": "2023-10-13T13:31:59.215853Z"
    }
   },
   "outputs": [],
   "source": [
    "import seaborn as sns\n",
    "planets = sns.load_dataset(\"planets\")\n",
    "df = planets.copy()"
   ]
  },
  {
   "cell_type": "code",
   "execution_count": 2,
   "outputs": [
    {
     "data": {
      "text/plain": "            method  number  orbital_period   mass  distance  year\n0  Radial Velocity       1         269.300   7.10     77.40  2006\n1  Radial Velocity       1         874.774   2.21     56.95  2008\n2  Radial Velocity       1         763.000   2.60     19.84  2011\n3  Radial Velocity       1         326.030  19.40    110.62  2007\n4  Radial Velocity       1         516.220  10.50    119.47  2009",
      "text/html": "<div>\n<style scoped>\n    .dataframe tbody tr th:only-of-type {\n        vertical-align: middle;\n    }\n\n    .dataframe tbody tr th {\n        vertical-align: top;\n    }\n\n    .dataframe thead th {\n        text-align: right;\n    }\n</style>\n<table border=\"1\" class=\"dataframe\">\n  <thead>\n    <tr style=\"text-align: right;\">\n      <th></th>\n      <th>method</th>\n      <th>number</th>\n      <th>orbital_period</th>\n      <th>mass</th>\n      <th>distance</th>\n      <th>year</th>\n    </tr>\n  </thead>\n  <tbody>\n    <tr>\n      <th>0</th>\n      <td>Radial Velocity</td>\n      <td>1</td>\n      <td>269.300</td>\n      <td>7.10</td>\n      <td>77.40</td>\n      <td>2006</td>\n    </tr>\n    <tr>\n      <th>1</th>\n      <td>Radial Velocity</td>\n      <td>1</td>\n      <td>874.774</td>\n      <td>2.21</td>\n      <td>56.95</td>\n      <td>2008</td>\n    </tr>\n    <tr>\n      <th>2</th>\n      <td>Radial Velocity</td>\n      <td>1</td>\n      <td>763.000</td>\n      <td>2.60</td>\n      <td>19.84</td>\n      <td>2011</td>\n    </tr>\n    <tr>\n      <th>3</th>\n      <td>Radial Velocity</td>\n      <td>1</td>\n      <td>326.030</td>\n      <td>19.40</td>\n      <td>110.62</td>\n      <td>2007</td>\n    </tr>\n    <tr>\n      <th>4</th>\n      <td>Radial Velocity</td>\n      <td>1</td>\n      <td>516.220</td>\n      <td>10.50</td>\n      <td>119.47</td>\n      <td>2009</td>\n    </tr>\n  </tbody>\n</table>\n</div>"
     },
     "execution_count": 2,
     "metadata": {},
     "output_type": "execute_result"
    }
   ],
   "source": [
    "df.head()"
   ],
   "metadata": {
    "collapsed": false,
    "ExecuteTime": {
     "end_time": "2023-10-13T13:32:37.725051Z",
     "start_time": "2023-10-13T13:32:37.717508Z"
    }
   },
   "id": "db05edf9c70ae848"
  },
  {
   "cell_type": "code",
   "execution_count": 3,
   "outputs": [
    {
     "data": {
      "text/plain": "(1035, 6)"
     },
     "execution_count": 3,
     "metadata": {},
     "output_type": "execute_result"
    }
   ],
   "source": [
    "df.shape"
   ],
   "metadata": {
    "collapsed": false,
    "ExecuteTime": {
     "end_time": "2023-10-13T13:32:43.472179Z",
     "start_time": "2023-10-13T13:32:43.466183Z"
    }
   },
   "id": "eff08fe7b3714afc"
  },
  {
   "cell_type": "code",
   "execution_count": 4,
   "outputs": [
    {
     "data": {
      "text/plain": "Index(['method', 'number', 'orbital_period', 'mass', 'distance', 'year'], dtype='object')"
     },
     "execution_count": 4,
     "metadata": {},
     "output_type": "execute_result"
    }
   ],
   "source": [
    "df.columns"
   ],
   "metadata": {
    "collapsed": false,
    "ExecuteTime": {
     "end_time": "2023-10-13T13:32:51.209846Z",
     "start_time": "2023-10-13T13:32:51.204635Z"
    }
   },
   "id": "87e3427c2a49ac91"
  },
  {
   "cell_type": "code",
   "execution_count": 7,
   "outputs": [
    {
     "data": {
      "text/plain": "                 count         mean           std          min         25%  \\\nnumber          1035.0     1.785507      1.240976     1.000000     1.00000   \norbital_period   992.0  2002.917596  26014.728304     0.090706     5.44254   \nmass             513.0     2.638161      3.818617     0.003600     0.22900   \ndistance         808.0   264.069282    733.116493     1.350000    32.56000   \nyear            1035.0  2009.070531      3.972567  1989.000000  2007.00000   \n\n                      50%       75%       max  \nnumber             1.0000     2.000       7.0  \norbital_period    39.9795   526.005  730000.0  \nmass               1.2600     3.040      25.0  \ndistance          55.2500   178.500    8500.0  \nyear            2010.0000  2012.000    2014.0  ",
      "text/html": "<div>\n<style scoped>\n    .dataframe tbody tr th:only-of-type {\n        vertical-align: middle;\n    }\n\n    .dataframe tbody tr th {\n        vertical-align: top;\n    }\n\n    .dataframe thead th {\n        text-align: right;\n    }\n</style>\n<table border=\"1\" class=\"dataframe\">\n  <thead>\n    <tr style=\"text-align: right;\">\n      <th></th>\n      <th>count</th>\n      <th>mean</th>\n      <th>std</th>\n      <th>min</th>\n      <th>25%</th>\n      <th>50%</th>\n      <th>75%</th>\n      <th>max</th>\n    </tr>\n  </thead>\n  <tbody>\n    <tr>\n      <th>number</th>\n      <td>1035.0</td>\n      <td>1.785507</td>\n      <td>1.240976</td>\n      <td>1.000000</td>\n      <td>1.00000</td>\n      <td>1.0000</td>\n      <td>2.000</td>\n      <td>7.0</td>\n    </tr>\n    <tr>\n      <th>orbital_period</th>\n      <td>992.0</td>\n      <td>2002.917596</td>\n      <td>26014.728304</td>\n      <td>0.090706</td>\n      <td>5.44254</td>\n      <td>39.9795</td>\n      <td>526.005</td>\n      <td>730000.0</td>\n    </tr>\n    <tr>\n      <th>mass</th>\n      <td>513.0</td>\n      <td>2.638161</td>\n      <td>3.818617</td>\n      <td>0.003600</td>\n      <td>0.22900</td>\n      <td>1.2600</td>\n      <td>3.040</td>\n      <td>25.0</td>\n    </tr>\n    <tr>\n      <th>distance</th>\n      <td>808.0</td>\n      <td>264.069282</td>\n      <td>733.116493</td>\n      <td>1.350000</td>\n      <td>32.56000</td>\n      <td>55.2500</td>\n      <td>178.500</td>\n      <td>8500.0</td>\n    </tr>\n    <tr>\n      <th>year</th>\n      <td>1035.0</td>\n      <td>2009.070531</td>\n      <td>3.972567</td>\n      <td>1989.000000</td>\n      <td>2007.00000</td>\n      <td>2010.0000</td>\n      <td>2012.000</td>\n      <td>2014.0</td>\n    </tr>\n  </tbody>\n</table>\n</div>"
     },
     "execution_count": 7,
     "metadata": {},
     "output_type": "execute_result"
    }
   ],
   "source": [
    "df.describe().T"
   ],
   "metadata": {
    "collapsed": false,
    "ExecuteTime": {
     "end_time": "2023-10-13T13:33:16.799945Z",
     "start_time": "2023-10-13T13:33:16.776844Z"
    }
   },
   "id": "108e767ad5a6d3cb"
  },
  {
   "cell_type": "code",
   "execution_count": null,
   "outputs": [],
   "source": [],
   "metadata": {
    "collapsed": false
   },
   "id": "18ab5c99769908ff"
  }
 ],
 "metadata": {
  "kernelspec": {
   "display_name": "Python 3",
   "language": "python",
   "name": "python3"
  },
  "language_info": {
   "codemirror_mode": {
    "name": "ipython",
    "version": 2
   },
   "file_extension": ".py",
   "mimetype": "text/x-python",
   "name": "python",
   "nbconvert_exporter": "python",
   "pygments_lexer": "ipython2",
   "version": "2.7.6"
  }
 },
 "nbformat": 4,
 "nbformat_minor": 5
}
